{
  "nbformat": 4,
  "nbformat_minor": 0,
  "metadata": {
    "colab": {
      "provenance": [],
      "authorship_tag": "ABX9TyM95KwuChWkNkjxswvsQeE3",
      "include_colab_link": true
    },
    "kernelspec": {
      "name": "python3",
      "display_name": "Python 3"
    },
    "language_info": {
      "name": "python"
    }
  },
  "cells": [
    {
      "cell_type": "markdown",
      "metadata": {
        "id": "view-in-github",
        "colab_type": "text"
      },
      "source": [
        "<a href=\"https://colab.research.google.com/github/SaimaChowdhury/shestem-assignment__traffic/blob/main/shestem_assignment__Traffic.ipynb\" target=\"_parent\"><img src=\"https://colab.research.google.com/assets/colab-badge.svg\" alt=\"Open In Colab\"/></a>"
      ]
    },
    {
      "cell_type": "markdown",
      "source": [
        "# Traffic Volume Prediction with Supervised ML  \n",
        "### **Author:** Saima Chowdhury\n",
        "**Email:** saima.Chowdhury811@gmail.com\n",
        "\n",
        "---\n",
        "**Date:** 2025-09-01  \n",
        "**Dataset:** Kaggle — *Traffic Prediction Dataset* (hourly vehicles across 4 junctions)\n"
      ],
      "metadata": {
        "id": "H2bKUryVud8-"
      }
    },
    {
      "cell_type": "markdown",
      "source": [
        "***Importing Libraries***"
      ],
      "metadata": {
        "id": "8cP9yazXokcR"
      }
    },
    {
      "cell_type": "code",
      "execution_count": null,
      "metadata": {
        "id": "FzC5zNHwC0WP"
      },
      "outputs": [],
      "source": [
        "#sec-A\n",
        "import pandas as pd\n",
        "import numpy as np\n",
        "from sklearn.preprocessing import StandardScaler\n",
        "\n",
        "#sec-B\n",
        "import matplotlib.pyplot as plt\n",
        "import seaborn as sns\n",
        "\n",
        "#sec-C\n",
        "from sklearn.model_selection import train_test_split\n",
        "from sklearn.linear_model import LinearRegression\n",
        "from sklearn.ensemble import RandomForestRegressor\n",
        "import warnings\n",
        "from sklearn.metrics import mean_squared_error, r2_score"
      ]
    },
    {
      "cell_type": "markdown",
      "source": [
        "## Section A: Data Import & Preprocessing\n",
        "---\n",
        "**1. Load the dataset and display its first 10 rows.**"
      ],
      "metadata": {
        "id": "w1opdlWPE3ix"
      }
    },
    {
      "cell_type": "code",
      "source": [
        "# 1.1: Loading Dataset\n",
        "df = pd.read_csv(\"/content/traffic.csv\")\n",
        "# 1.2: dislaying first 10 rows\n",
        "df.head(10)"
      ],
      "metadata": {
        "colab": {
          "base_uri": "https://localhost:8080/",
          "height": 363
        },
        "id": "eBBrLIODELkU",
        "outputId": "158514bb-ea7e-459b-a1e0-a40389da7d6d"
      },
      "execution_count": null,
      "outputs": [
        {
          "output_type": "execute_result",
          "data": {
            "text/plain": [
              "              DateTime  Junction  Vehicles           ID\n",
              "0  2015-11-01 00:00:00         1        15  20151101001\n",
              "1  2015-11-01 01:00:00         1        13  20151101011\n",
              "2  2015-11-01 02:00:00         1        10  20151101021\n",
              "3  2015-11-01 03:00:00         1         7  20151101031\n",
              "4  2015-11-01 04:00:00         1         9  20151101041\n",
              "5  2015-11-01 05:00:00         1         6  20151101051\n",
              "6  2015-11-01 06:00:00         1         9  20151101061\n",
              "7  2015-11-01 07:00:00         1         8  20151101071\n",
              "8  2015-11-01 08:00:00         1        11  20151101081\n",
              "9  2015-11-01 09:00:00         1        12  20151101091"
            ],
            "text/html": [
              "\n",
              "  <div id=\"df-14cf41de-5912-4271-bd0a-9a929ea5c445\" class=\"colab-df-container\">\n",
              "    <div>\n",
              "<style scoped>\n",
              "    .dataframe tbody tr th:only-of-type {\n",
              "        vertical-align: middle;\n",
              "    }\n",
              "\n",
              "    .dataframe tbody tr th {\n",
              "        vertical-align: top;\n",
              "    }\n",
              "\n",
              "    .dataframe thead th {\n",
              "        text-align: right;\n",
              "    }\n",
              "</style>\n",
              "<table border=\"1\" class=\"dataframe\">\n",
              "  <thead>\n",
              "    <tr style=\"text-align: right;\">\n",
              "      <th></th>\n",
              "      <th>DateTime</th>\n",
              "      <th>Junction</th>\n",
              "      <th>Vehicles</th>\n",
              "      <th>ID</th>\n",
              "    </tr>\n",
              "  </thead>\n",
              "  <tbody>\n",
              "    <tr>\n",
              "      <th>0</th>\n",
              "      <td>2015-11-01 00:00:00</td>\n",
              "      <td>1</td>\n",
              "      <td>15</td>\n",
              "      <td>20151101001</td>\n",
              "    </tr>\n",
              "    <tr>\n",
              "      <th>1</th>\n",
              "      <td>2015-11-01 01:00:00</td>\n",
              "      <td>1</td>\n",
              "      <td>13</td>\n",
              "      <td>20151101011</td>\n",
              "    </tr>\n",
              "    <tr>\n",
              "      <th>2</th>\n",
              "      <td>2015-11-01 02:00:00</td>\n",
              "      <td>1</td>\n",
              "      <td>10</td>\n",
              "      <td>20151101021</td>\n",
              "    </tr>\n",
              "    <tr>\n",
              "      <th>3</th>\n",
              "      <td>2015-11-01 03:00:00</td>\n",
              "      <td>1</td>\n",
              "      <td>7</td>\n",
              "      <td>20151101031</td>\n",
              "    </tr>\n",
              "    <tr>\n",
              "      <th>4</th>\n",
              "      <td>2015-11-01 04:00:00</td>\n",
              "      <td>1</td>\n",
              "      <td>9</td>\n",
              "      <td>20151101041</td>\n",
              "    </tr>\n",
              "    <tr>\n",
              "      <th>5</th>\n",
              "      <td>2015-11-01 05:00:00</td>\n",
              "      <td>1</td>\n",
              "      <td>6</td>\n",
              "      <td>20151101051</td>\n",
              "    </tr>\n",
              "    <tr>\n",
              "      <th>6</th>\n",
              "      <td>2015-11-01 06:00:00</td>\n",
              "      <td>1</td>\n",
              "      <td>9</td>\n",
              "      <td>20151101061</td>\n",
              "    </tr>\n",
              "    <tr>\n",
              "      <th>7</th>\n",
              "      <td>2015-11-01 07:00:00</td>\n",
              "      <td>1</td>\n",
              "      <td>8</td>\n",
              "      <td>20151101071</td>\n",
              "    </tr>\n",
              "    <tr>\n",
              "      <th>8</th>\n",
              "      <td>2015-11-01 08:00:00</td>\n",
              "      <td>1</td>\n",
              "      <td>11</td>\n",
              "      <td>20151101081</td>\n",
              "    </tr>\n",
              "    <tr>\n",
              "      <th>9</th>\n",
              "      <td>2015-11-01 09:00:00</td>\n",
              "      <td>1</td>\n",
              "      <td>12</td>\n",
              "      <td>20151101091</td>\n",
              "    </tr>\n",
              "  </tbody>\n",
              "</table>\n",
              "</div>\n",
              "    <div class=\"colab-df-buttons\">\n",
              "\n",
              "  <div class=\"colab-df-container\">\n",
              "    <button class=\"colab-df-convert\" onclick=\"convertToInteractive('df-14cf41de-5912-4271-bd0a-9a929ea5c445')\"\n",
              "            title=\"Convert this dataframe to an interactive table.\"\n",
              "            style=\"display:none;\">\n",
              "\n",
              "  <svg xmlns=\"http://www.w3.org/2000/svg\" height=\"24px\" viewBox=\"0 -960 960 960\">\n",
              "    <path d=\"M120-120v-720h720v720H120Zm60-500h600v-160H180v160Zm220 220h160v-160H400v160Zm0 220h160v-160H400v160ZM180-400h160v-160H180v160Zm440 0h160v-160H620v160ZM180-180h160v-160H180v160Zm440 0h160v-160H620v160Z\"/>\n",
              "  </svg>\n",
              "    </button>\n",
              "\n",
              "  <style>\n",
              "    .colab-df-container {\n",
              "      display:flex;\n",
              "      gap: 12px;\n",
              "    }\n",
              "\n",
              "    .colab-df-convert {\n",
              "      background-color: #E8F0FE;\n",
              "      border: none;\n",
              "      border-radius: 50%;\n",
              "      cursor: pointer;\n",
              "      display: none;\n",
              "      fill: #1967D2;\n",
              "      height: 32px;\n",
              "      padding: 0 0 0 0;\n",
              "      width: 32px;\n",
              "    }\n",
              "\n",
              "    .colab-df-convert:hover {\n",
              "      background-color: #E2EBFA;\n",
              "      box-shadow: 0px 1px 2px rgba(60, 64, 67, 0.3), 0px 1px 3px 1px rgba(60, 64, 67, 0.15);\n",
              "      fill: #174EA6;\n",
              "    }\n",
              "\n",
              "    .colab-df-buttons div {\n",
              "      margin-bottom: 4px;\n",
              "    }\n",
              "\n",
              "    [theme=dark] .colab-df-convert {\n",
              "      background-color: #3B4455;\n",
              "      fill: #D2E3FC;\n",
              "    }\n",
              "\n",
              "    [theme=dark] .colab-df-convert:hover {\n",
              "      background-color: #434B5C;\n",
              "      box-shadow: 0px 1px 3px 1px rgba(0, 0, 0, 0.15);\n",
              "      filter: drop-shadow(0px 1px 2px rgba(0, 0, 0, 0.3));\n",
              "      fill: #FFFFFF;\n",
              "    }\n",
              "  </style>\n",
              "\n",
              "    <script>\n",
              "      const buttonEl =\n",
              "        document.querySelector('#df-14cf41de-5912-4271-bd0a-9a929ea5c445 button.colab-df-convert');\n",
              "      buttonEl.style.display =\n",
              "        google.colab.kernel.accessAllowed ? 'block' : 'none';\n",
              "\n",
              "      async function convertToInteractive(key) {\n",
              "        const element = document.querySelector('#df-14cf41de-5912-4271-bd0a-9a929ea5c445');\n",
              "        const dataTable =\n",
              "          await google.colab.kernel.invokeFunction('convertToInteractive',\n",
              "                                                    [key], {});\n",
              "        if (!dataTable) return;\n",
              "\n",
              "        const docLinkHtml = 'Like what you see? Visit the ' +\n",
              "          '<a target=\"_blank\" href=https://colab.research.google.com/notebooks/data_table.ipynb>data table notebook</a>'\n",
              "          + ' to learn more about interactive tables.';\n",
              "        element.innerHTML = '';\n",
              "        dataTable['output_type'] = 'display_data';\n",
              "        await google.colab.output.renderOutput(dataTable, element);\n",
              "        const docLink = document.createElement('div');\n",
              "        docLink.innerHTML = docLinkHtml;\n",
              "        element.appendChild(docLink);\n",
              "      }\n",
              "    </script>\n",
              "  </div>\n",
              "\n",
              "\n",
              "    <div id=\"df-d5f5e630-b75f-4064-a6f6-c0ec05d6ee17\">\n",
              "      <button class=\"colab-df-quickchart\" onclick=\"quickchart('df-d5f5e630-b75f-4064-a6f6-c0ec05d6ee17')\"\n",
              "                title=\"Suggest charts\"\n",
              "                style=\"display:none;\">\n",
              "\n",
              "<svg xmlns=\"http://www.w3.org/2000/svg\" height=\"24px\"viewBox=\"0 0 24 24\"\n",
              "     width=\"24px\">\n",
              "    <g>\n",
              "        <path d=\"M19 3H5c-1.1 0-2 .9-2 2v14c0 1.1.9 2 2 2h14c1.1 0 2-.9 2-2V5c0-1.1-.9-2-2-2zM9 17H7v-7h2v7zm4 0h-2V7h2v10zm4 0h-2v-4h2v4z\"/>\n",
              "    </g>\n",
              "</svg>\n",
              "      </button>\n",
              "\n",
              "<style>\n",
              "  .colab-df-quickchart {\n",
              "      --bg-color: #E8F0FE;\n",
              "      --fill-color: #1967D2;\n",
              "      --hover-bg-color: #E2EBFA;\n",
              "      --hover-fill-color: #174EA6;\n",
              "      --disabled-fill-color: #AAA;\n",
              "      --disabled-bg-color: #DDD;\n",
              "  }\n",
              "\n",
              "  [theme=dark] .colab-df-quickchart {\n",
              "      --bg-color: #3B4455;\n",
              "      --fill-color: #D2E3FC;\n",
              "      --hover-bg-color: #434B5C;\n",
              "      --hover-fill-color: #FFFFFF;\n",
              "      --disabled-bg-color: #3B4455;\n",
              "      --disabled-fill-color: #666;\n",
              "  }\n",
              "\n",
              "  .colab-df-quickchart {\n",
              "    background-color: var(--bg-color);\n",
              "    border: none;\n",
              "    border-radius: 50%;\n",
              "    cursor: pointer;\n",
              "    display: none;\n",
              "    fill: var(--fill-color);\n",
              "    height: 32px;\n",
              "    padding: 0;\n",
              "    width: 32px;\n",
              "  }\n",
              "\n",
              "  .colab-df-quickchart:hover {\n",
              "    background-color: var(--hover-bg-color);\n",
              "    box-shadow: 0 1px 2px rgba(60, 64, 67, 0.3), 0 1px 3px 1px rgba(60, 64, 67, 0.15);\n",
              "    fill: var(--button-hover-fill-color);\n",
              "  }\n",
              "\n",
              "  .colab-df-quickchart-complete:disabled,\n",
              "  .colab-df-quickchart-complete:disabled:hover {\n",
              "    background-color: var(--disabled-bg-color);\n",
              "    fill: var(--disabled-fill-color);\n",
              "    box-shadow: none;\n",
              "  }\n",
              "\n",
              "  .colab-df-spinner {\n",
              "    border: 2px solid var(--fill-color);\n",
              "    border-color: transparent;\n",
              "    border-bottom-color: var(--fill-color);\n",
              "    animation:\n",
              "      spin 1s steps(1) infinite;\n",
              "  }\n",
              "\n",
              "  @keyframes spin {\n",
              "    0% {\n",
              "      border-color: transparent;\n",
              "      border-bottom-color: var(--fill-color);\n",
              "      border-left-color: var(--fill-color);\n",
              "    }\n",
              "    20% {\n",
              "      border-color: transparent;\n",
              "      border-left-color: var(--fill-color);\n",
              "      border-top-color: var(--fill-color);\n",
              "    }\n",
              "    30% {\n",
              "      border-color: transparent;\n",
              "      border-left-color: var(--fill-color);\n",
              "      border-top-color: var(--fill-color);\n",
              "      border-right-color: var(--fill-color);\n",
              "    }\n",
              "    40% {\n",
              "      border-color: transparent;\n",
              "      border-right-color: var(--fill-color);\n",
              "      border-top-color: var(--fill-color);\n",
              "    }\n",
              "    60% {\n",
              "      border-color: transparent;\n",
              "      border-right-color: var(--fill-color);\n",
              "    }\n",
              "    80% {\n",
              "      border-color: transparent;\n",
              "      border-right-color: var(--fill-color);\n",
              "      border-bottom-color: var(--fill-color);\n",
              "    }\n",
              "    90% {\n",
              "      border-color: transparent;\n",
              "      border-bottom-color: var(--fill-color);\n",
              "    }\n",
              "  }\n",
              "</style>\n",
              "\n",
              "      <script>\n",
              "        async function quickchart(key) {\n",
              "          const quickchartButtonEl =\n",
              "            document.querySelector('#' + key + ' button');\n",
              "          quickchartButtonEl.disabled = true;  // To prevent multiple clicks.\n",
              "          quickchartButtonEl.classList.add('colab-df-spinner');\n",
              "          try {\n",
              "            const charts = await google.colab.kernel.invokeFunction(\n",
              "                'suggestCharts', [key], {});\n",
              "          } catch (error) {\n",
              "            console.error('Error during call to suggestCharts:', error);\n",
              "          }\n",
              "          quickchartButtonEl.classList.remove('colab-df-spinner');\n",
              "          quickchartButtonEl.classList.add('colab-df-quickchart-complete');\n",
              "        }\n",
              "        (() => {\n",
              "          let quickchartButtonEl =\n",
              "            document.querySelector('#df-d5f5e630-b75f-4064-a6f6-c0ec05d6ee17 button');\n",
              "          quickchartButtonEl.style.display =\n",
              "            google.colab.kernel.accessAllowed ? 'block' : 'none';\n",
              "        })();\n",
              "      </script>\n",
              "    </div>\n",
              "\n",
              "    </div>\n",
              "  </div>\n"
            ],
            "application/vnd.google.colaboratory.intrinsic+json": {
              "type": "dataframe",
              "variable_name": "df",
              "summary": "{\n  \"name\": \"df\",\n  \"rows\": 48120,\n  \"fields\": [\n    {\n      \"column\": \"DateTime\",\n      \"properties\": {\n        \"dtype\": \"object\",\n        \"num_unique_values\": 14592,\n        \"samples\": [\n          \"2016-05-13 20:00:00\",\n          \"2016-11-03 20:00:00\",\n          \"2015-12-08 19:00:00\"\n        ],\n        \"semantic_type\": \"\",\n        \"description\": \"\"\n      }\n    },\n    {\n      \"column\": \"Junction\",\n      \"properties\": {\n        \"dtype\": \"number\",\n        \"std\": 0,\n        \"min\": 1,\n        \"max\": 4,\n        \"num_unique_values\": 4,\n        \"samples\": [\n          2,\n          4,\n          1\n        ],\n        \"semantic_type\": \"\",\n        \"description\": \"\"\n      }\n    },\n    {\n      \"column\": \"Vehicles\",\n      \"properties\": {\n        \"dtype\": \"number\",\n        \"std\": 20,\n        \"min\": 1,\n        \"max\": 180,\n        \"num_unique_values\": 141,\n        \"samples\": [\n          73,\n          99,\n          38\n        ],\n        \"semantic_type\": \"\",\n        \"description\": \"\"\n      }\n    },\n    {\n      \"column\": \"ID\",\n      \"properties\": {\n        \"dtype\": \"number\",\n        \"std\": 5944853,\n        \"min\": 20151101001,\n        \"max\": 20170630234,\n        \"num_unique_values\": 48120,\n        \"samples\": [\n          20161223082,\n          20160828203,\n          20170424063\n        ],\n        \"semantic_type\": \"\",\n        \"description\": \"\"\n      }\n    }\n  ]\n}"
            }
          },
          "metadata": {},
          "execution_count": 4
        }
      ]
    },
    {
      "cell_type": "markdown",
      "source": [
        "**2. Identify missing values and handle them appropriately.**"
      ],
      "metadata": {
        "id": "cxuDzpVzJ45i"
      }
    },
    {
      "cell_type": "code",
      "metadata": {
        "colab": {
          "base_uri": "https://localhost:8080/"
        },
        "id": "63be0895",
        "outputId": "7609e99d-c64f-46a6-a327-e836082e3406"
      },
      "source": [
        "# 2.1: Check for missing values\n",
        "print(df.isnull().sum())"
      ],
      "execution_count": null,
      "outputs": [
        {
          "output_type": "stream",
          "name": "stdout",
          "text": [
            "DateTime    0\n",
            "Junction    0\n",
            "Vehicles    0\n",
            "ID          0\n",
            "dtype: int64\n"
          ]
        }
      ]
    },
    {
      "cell_type": "markdown",
      "source": [
        "**2.2**: No missing values in the dataset. There is no need to handling.\n",
        "\n",
        "\n",
        "**3. Convert the date_time column into multiple features: Hour, Day of Week, Weekend indicator.**"
      ],
      "metadata": {
        "id": "8JUFm9FwIuds"
      }
    },
    {
      "cell_type": "code",
      "source": [
        "# Convert 'date-time' column to datetime objects\n",
        "df['DateTime'] = pd.to_datetime(df['DateTime'])\n",
        "\n",
        "# Extract features from 'DateTime'\n",
        "df['Hour'] = df['DateTime'].dt.hour\n",
        "df['DayofWeek'] = df['DateTime'].dt.dayofweek  # Monday=0,....., Sunday=6\n",
        "df['Weekend'] = (df['DateTime'].dt.dayofweek >= 5).astype(int) # 1 for weekend, 0 for weekday\n",
        "\n",
        "# Displaying the first 5 rows with new features\n",
        "display(df.head())"
      ],
      "metadata": {
        "colab": {
          "base_uri": "https://localhost:8080/",
          "height": 206
        },
        "id": "XBTkdBvbIVyU",
        "outputId": "3dd2892b-4118-4a9c-c808-53ff97a3bfff"
      },
      "execution_count": null,
      "outputs": [
        {
          "output_type": "display_data",
          "data": {
            "text/plain": [
              "             DateTime  Junction  Vehicles           ID  Hour  DayofWeek  \\\n",
              "0 2015-11-01 00:00:00         1        15  20151101001     0          6   \n",
              "1 2015-11-01 01:00:00         1        13  20151101011     1          6   \n",
              "2 2015-11-01 02:00:00         1        10  20151101021     2          6   \n",
              "3 2015-11-01 03:00:00         1         7  20151101031     3          6   \n",
              "4 2015-11-01 04:00:00         1         9  20151101041     4          6   \n",
              "\n",
              "   Weekend  \n",
              "0        1  \n",
              "1        1  \n",
              "2        1  \n",
              "3        1  \n",
              "4        1  "
            ],
            "text/html": [
              "\n",
              "  <div id=\"df-9b56dc4b-05e8-49f8-935a-5178010050f3\" class=\"colab-df-container\">\n",
              "    <div>\n",
              "<style scoped>\n",
              "    .dataframe tbody tr th:only-of-type {\n",
              "        vertical-align: middle;\n",
              "    }\n",
              "\n",
              "    .dataframe tbody tr th {\n",
              "        vertical-align: top;\n",
              "    }\n",
              "\n",
              "    .dataframe thead th {\n",
              "        text-align: right;\n",
              "    }\n",
              "</style>\n",
              "<table border=\"1\" class=\"dataframe\">\n",
              "  <thead>\n",
              "    <tr style=\"text-align: right;\">\n",
              "      <th></th>\n",
              "      <th>DateTime</th>\n",
              "      <th>Junction</th>\n",
              "      <th>Vehicles</th>\n",
              "      <th>ID</th>\n",
              "      <th>Hour</th>\n",
              "      <th>DayofWeek</th>\n",
              "      <th>Weekend</th>\n",
              "    </tr>\n",
              "  </thead>\n",
              "  <tbody>\n",
              "    <tr>\n",
              "      <th>0</th>\n",
              "      <td>2015-11-01 00:00:00</td>\n",
              "      <td>1</td>\n",
              "      <td>15</td>\n",
              "      <td>20151101001</td>\n",
              "      <td>0</td>\n",
              "      <td>6</td>\n",
              "      <td>1</td>\n",
              "    </tr>\n",
              "    <tr>\n",
              "      <th>1</th>\n",
              "      <td>2015-11-01 01:00:00</td>\n",
              "      <td>1</td>\n",
              "      <td>13</td>\n",
              "      <td>20151101011</td>\n",
              "      <td>1</td>\n",
              "      <td>6</td>\n",
              "      <td>1</td>\n",
              "    </tr>\n",
              "    <tr>\n",
              "      <th>2</th>\n",
              "      <td>2015-11-01 02:00:00</td>\n",
              "      <td>1</td>\n",
              "      <td>10</td>\n",
              "      <td>20151101021</td>\n",
              "      <td>2</td>\n",
              "      <td>6</td>\n",
              "      <td>1</td>\n",
              "    </tr>\n",
              "    <tr>\n",
              "      <th>3</th>\n",
              "      <td>2015-11-01 03:00:00</td>\n",
              "      <td>1</td>\n",
              "      <td>7</td>\n",
              "      <td>20151101031</td>\n",
              "      <td>3</td>\n",
              "      <td>6</td>\n",
              "      <td>1</td>\n",
              "    </tr>\n",
              "    <tr>\n",
              "      <th>4</th>\n",
              "      <td>2015-11-01 04:00:00</td>\n",
              "      <td>1</td>\n",
              "      <td>9</td>\n",
              "      <td>20151101041</td>\n",
              "      <td>4</td>\n",
              "      <td>6</td>\n",
              "      <td>1</td>\n",
              "    </tr>\n",
              "  </tbody>\n",
              "</table>\n",
              "</div>\n",
              "    <div class=\"colab-df-buttons\">\n",
              "\n",
              "  <div class=\"colab-df-container\">\n",
              "    <button class=\"colab-df-convert\" onclick=\"convertToInteractive('df-9b56dc4b-05e8-49f8-935a-5178010050f3')\"\n",
              "            title=\"Convert this dataframe to an interactive table.\"\n",
              "            style=\"display:none;\">\n",
              "\n",
              "  <svg xmlns=\"http://www.w3.org/2000/svg\" height=\"24px\" viewBox=\"0 -960 960 960\">\n",
              "    <path d=\"M120-120v-720h720v720H120Zm60-500h600v-160H180v160Zm220 220h160v-160H400v160Zm0 220h160v-160H400v160ZM180-400h160v-160H180v160Zm440 0h160v-160H620v160ZM180-180h160v-160H180v160Zm440 0h160v-160H620v160Z\"/>\n",
              "  </svg>\n",
              "    </button>\n",
              "\n",
              "  <style>\n",
              "    .colab-df-container {\n",
              "      display:flex;\n",
              "      gap: 12px;\n",
              "    }\n",
              "\n",
              "    .colab-df-convert {\n",
              "      background-color: #E8F0FE;\n",
              "      border: none;\n",
              "      border-radius: 50%;\n",
              "      cursor: pointer;\n",
              "      display: none;\n",
              "      fill: #1967D2;\n",
              "      height: 32px;\n",
              "      padding: 0 0 0 0;\n",
              "      width: 32px;\n",
              "    }\n",
              "\n",
              "    .colab-df-convert:hover {\n",
              "      background-color: #E2EBFA;\n",
              "      box-shadow: 0px 1px 2px rgba(60, 64, 67, 0.3), 0px 1px 3px 1px rgba(60, 64, 67, 0.15);\n",
              "      fill: #174EA6;\n",
              "    }\n",
              "\n",
              "    .colab-df-buttons div {\n",
              "      margin-bottom: 4px;\n",
              "    }\n",
              "\n",
              "    [theme=dark] .colab-df-convert {\n",
              "      background-color: #3B4455;\n",
              "      fill: #D2E3FC;\n",
              "    }\n",
              "\n",
              "    [theme=dark] .colab-df-convert:hover {\n",
              "      background-color: #434B5C;\n",
              "      box-shadow: 0px 1px 3px 1px rgba(0, 0, 0, 0.15);\n",
              "      filter: drop-shadow(0px 1px 2px rgba(0, 0, 0, 0.3));\n",
              "      fill: #FFFFFF;\n",
              "    }\n",
              "  </style>\n",
              "\n",
              "    <script>\n",
              "      const buttonEl =\n",
              "        document.querySelector('#df-9b56dc4b-05e8-49f8-935a-5178010050f3 button.colab-df-convert');\n",
              "      buttonEl.style.display =\n",
              "        google.colab.kernel.accessAllowed ? 'block' : 'none';\n",
              "\n",
              "      async function convertToInteractive(key) {\n",
              "        const element = document.querySelector('#df-9b56dc4b-05e8-49f8-935a-5178010050f3');\n",
              "        const dataTable =\n",
              "          await google.colab.kernel.invokeFunction('convertToInteractive',\n",
              "                                                    [key], {});\n",
              "        if (!dataTable) return;\n",
              "\n",
              "        const docLinkHtml = 'Like what you see? Visit the ' +\n",
              "          '<a target=\"_blank\" href=https://colab.research.google.com/notebooks/data_table.ipynb>data table notebook</a>'\n",
              "          + ' to learn more about interactive tables.';\n",
              "        element.innerHTML = '';\n",
              "        dataTable['output_type'] = 'display_data';\n",
              "        await google.colab.output.renderOutput(dataTable, element);\n",
              "        const docLink = document.createElement('div');\n",
              "        docLink.innerHTML = docLinkHtml;\n",
              "        element.appendChild(docLink);\n",
              "      }\n",
              "    </script>\n",
              "  </div>\n",
              "\n",
              "\n",
              "    <div id=\"df-fc99fe63-5cae-4473-8a79-13cf7e6769a8\">\n",
              "      <button class=\"colab-df-quickchart\" onclick=\"quickchart('df-fc99fe63-5cae-4473-8a79-13cf7e6769a8')\"\n",
              "                title=\"Suggest charts\"\n",
              "                style=\"display:none;\">\n",
              "\n",
              "<svg xmlns=\"http://www.w3.org/2000/svg\" height=\"24px\"viewBox=\"0 0 24 24\"\n",
              "     width=\"24px\">\n",
              "    <g>\n",
              "        <path d=\"M19 3H5c-1.1 0-2 .9-2 2v14c0 1.1.9 2 2 2h14c1.1 0 2-.9 2-2V5c0-1.1-.9-2-2-2zM9 17H7v-7h2v7zm4 0h-2V7h2v10zm4 0h-2v-4h2v4z\"/>\n",
              "    </g>\n",
              "</svg>\n",
              "      </button>\n",
              "\n",
              "<style>\n",
              "  .colab-df-quickchart {\n",
              "      --bg-color: #E8F0FE;\n",
              "      --fill-color: #1967D2;\n",
              "      --hover-bg-color: #E2EBFA;\n",
              "      --hover-fill-color: #174EA6;\n",
              "      --disabled-fill-color: #AAA;\n",
              "      --disabled-bg-color: #DDD;\n",
              "  }\n",
              "\n",
              "  [theme=dark] .colab-df-quickchart {\n",
              "      --bg-color: #3B4455;\n",
              "      --fill-color: #D2E3FC;\n",
              "      --hover-bg-color: #434B5C;\n",
              "      --hover-fill-color: #FFFFFF;\n",
              "      --disabled-bg-color: #3B4455;\n",
              "      --disabled-fill-color: #666;\n",
              "  }\n",
              "\n",
              "  .colab-df-quickchart {\n",
              "    background-color: var(--bg-color);\n",
              "    border: none;\n",
              "    border-radius: 50%;\n",
              "    cursor: pointer;\n",
              "    display: none;\n",
              "    fill: var(--fill-color);\n",
              "    height: 32px;\n",
              "    padding: 0;\n",
              "    width: 32px;\n",
              "  }\n",
              "\n",
              "  .colab-df-quickchart:hover {\n",
              "    background-color: var(--hover-bg-color);\n",
              "    box-shadow: 0 1px 2px rgba(60, 64, 67, 0.3), 0 1px 3px 1px rgba(60, 64, 67, 0.15);\n",
              "    fill: var(--button-hover-fill-color);\n",
              "  }\n",
              "\n",
              "  .colab-df-quickchart-complete:disabled,\n",
              "  .colab-df-quickchart-complete:disabled:hover {\n",
              "    background-color: var(--disabled-bg-color);\n",
              "    fill: var(--disabled-fill-color);\n",
              "    box-shadow: none;\n",
              "  }\n",
              "\n",
              "  .colab-df-spinner {\n",
              "    border: 2px solid var(--fill-color);\n",
              "    border-color: transparent;\n",
              "    border-bottom-color: var(--fill-color);\n",
              "    animation:\n",
              "      spin 1s steps(1) infinite;\n",
              "  }\n",
              "\n",
              "  @keyframes spin {\n",
              "    0% {\n",
              "      border-color: transparent;\n",
              "      border-bottom-color: var(--fill-color);\n",
              "      border-left-color: var(--fill-color);\n",
              "    }\n",
              "    20% {\n",
              "      border-color: transparent;\n",
              "      border-left-color: var(--fill-color);\n",
              "      border-top-color: var(--fill-color);\n",
              "    }\n",
              "    30% {\n",
              "      border-color: transparent;\n",
              "      border-left-color: var(--fill-color);\n",
              "      border-top-color: var(--fill-color);\n",
              "      border-right-color: var(--fill-color);\n",
              "    }\n",
              "    40% {\n",
              "      border-color: transparent;\n",
              "      border-right-color: var(--fill-color);\n",
              "      border-top-color: var(--fill-color);\n",
              "    }\n",
              "    60% {\n",
              "      border-color: transparent;\n",
              "      border-right-color: var(--fill-color);\n",
              "    }\n",
              "    80% {\n",
              "      border-color: transparent;\n",
              "      border-right-color: var(--fill-color);\n",
              "      border-bottom-color: var(--fill-color);\n",
              "    }\n",
              "    90% {\n",
              "      border-color: transparent;\n",
              "      border-bottom-color: var(--fill-color);\n",
              "    }\n",
              "  }\n",
              "</style>\n",
              "\n",
              "      <script>\n",
              "        async function quickchart(key) {\n",
              "          const quickchartButtonEl =\n",
              "            document.querySelector('#' + key + ' button');\n",
              "          quickchartButtonEl.disabled = true;  // To prevent multiple clicks.\n",
              "          quickchartButtonEl.classList.add('colab-df-spinner');\n",
              "          try {\n",
              "            const charts = await google.colab.kernel.invokeFunction(\n",
              "                'suggestCharts', [key], {});\n",
              "          } catch (error) {\n",
              "            console.error('Error during call to suggestCharts:', error);\n",
              "          }\n",
              "          quickchartButtonEl.classList.remove('colab-df-spinner');\n",
              "          quickchartButtonEl.classList.add('colab-df-quickchart-complete');\n",
              "        }\n",
              "        (() => {\n",
              "          let quickchartButtonEl =\n",
              "            document.querySelector('#df-fc99fe63-5cae-4473-8a79-13cf7e6769a8 button');\n",
              "          quickchartButtonEl.style.display =\n",
              "            google.colab.kernel.accessAllowed ? 'block' : 'none';\n",
              "        })();\n",
              "      </script>\n",
              "    </div>\n",
              "\n",
              "    </div>\n",
              "  </div>\n"
            ],
            "application/vnd.google.colaboratory.intrinsic+json": {
              "type": "dataframe",
              "summary": "{\n  \"name\": \"display(df\",\n  \"rows\": 5,\n  \"fields\": [\n    {\n      \"column\": \"DateTime\",\n      \"properties\": {\n        \"dtype\": \"date\",\n        \"min\": \"2015-11-01 00:00:00\",\n        \"max\": \"2015-11-01 04:00:00\",\n        \"num_unique_values\": 5,\n        \"samples\": [\n          \"2015-11-01 01:00:00\",\n          \"2015-11-01 04:00:00\",\n          \"2015-11-01 02:00:00\"\n        ],\n        \"semantic_type\": \"\",\n        \"description\": \"\"\n      }\n    },\n    {\n      \"column\": \"Junction\",\n      \"properties\": {\n        \"dtype\": \"number\",\n        \"std\": 0,\n        \"min\": 1,\n        \"max\": 1,\n        \"num_unique_values\": 1,\n        \"samples\": [\n          1\n        ],\n        \"semantic_type\": \"\",\n        \"description\": \"\"\n      }\n    },\n    {\n      \"column\": \"Vehicles\",\n      \"properties\": {\n        \"dtype\": \"number\",\n        \"std\": 3,\n        \"min\": 7,\n        \"max\": 15,\n        \"num_unique_values\": 5,\n        \"samples\": [\n          13\n        ],\n        \"semantic_type\": \"\",\n        \"description\": \"\"\n      }\n    },\n    {\n      \"column\": \"ID\",\n      \"properties\": {\n        \"dtype\": \"number\",\n        \"std\": 15,\n        \"min\": 20151101001,\n        \"max\": 20151101041,\n        \"num_unique_values\": 5,\n        \"samples\": [\n          20151101011\n        ],\n        \"semantic_type\": \"\",\n        \"description\": \"\"\n      }\n    },\n    {\n      \"column\": \"Hour\",\n      \"properties\": {\n        \"dtype\": \"int32\",\n        \"num_unique_values\": 5,\n        \"samples\": [\n          1\n        ],\n        \"semantic_type\": \"\",\n        \"description\": \"\"\n      }\n    },\n    {\n      \"column\": \"DayofWeek\",\n      \"properties\": {\n        \"dtype\": \"int32\",\n        \"num_unique_values\": 1,\n        \"samples\": [\n          6\n        ],\n        \"semantic_type\": \"\",\n        \"description\": \"\"\n      }\n    },\n    {\n      \"column\": \"Weekend\",\n      \"properties\": {\n        \"dtype\": \"number\",\n        \"std\": 0,\n        \"min\": 1,\n        \"max\": 1,\n        \"num_unique_values\": 1,\n        \"samples\": [\n          1\n        ],\n        \"semantic_type\": \"\",\n        \"description\": \"\"\n      }\n    }\n  ]\n}"
            }
          },
          "metadata": {}
        }
      ]
    },
    {
      "cell_type": "markdown",
      "source": [
        "**4. Normalize numerical features if required.**"
      ],
      "metadata": {
        "id": "IBTlE5wjmjc_"
      }
    },
    {
      "cell_type": "code",
      "source": [
        "# Identify numerical features - Include 'Weekend' as it's used in the model\n",
        "numerical_features = ['Vehicles', 'Hour', 'DayofWeek', 'Weekend'] # Assuming Junction is categorical\n",
        "\n",
        "# Initialize StandardScaler\n",
        "scaler = StandardScaler()\n",
        "\n",
        "# Apply StandardScaler to numerical features\n",
        "df[numerical_features] = scaler.fit_transform(df[numerical_features])\n",
        "\n",
        "# Display the first few rows with normalized features\n",
        "display(df.head())"
      ],
      "metadata": {
        "colab": {
          "base_uri": "https://localhost:8080/",
          "height": 206
        },
        "id": "kvmlY8cylZ4p",
        "outputId": "63cdb166-5bcd-4307-d92f-3627832da888"
      },
      "execution_count": null,
      "outputs": [
        {
          "output_type": "display_data",
          "data": {
            "text/plain": [
              "             DateTime  Junction  Vehicles           ID      Hour  DayofWeek  \\\n",
              "0 2015-11-01 00:00:00         1 -0.375489  20151101001 -1.661325   1.501998   \n",
              "1 2015-11-01 01:00:00         1 -0.471875  20151101011 -1.516862   1.501998   \n",
              "2 2015-11-01 02:00:00         1 -0.616454  20151101021 -1.372399   1.501998   \n",
              "3 2015-11-01 03:00:00         1 -0.761034  20151101031 -1.227936   1.501998   \n",
              "4 2015-11-01 04:00:00         1 -0.664648  20151101041 -1.083473   1.501998   \n",
              "\n",
              "    Weekend  \n",
              "0  1.586677  \n",
              "1  1.586677  \n",
              "2  1.586677  \n",
              "3  1.586677  \n",
              "4  1.586677  "
            ],
            "text/html": [
              "\n",
              "  <div id=\"df-3232f520-9fa5-4b21-9a72-2127b918f459\" class=\"colab-df-container\">\n",
              "    <div>\n",
              "<style scoped>\n",
              "    .dataframe tbody tr th:only-of-type {\n",
              "        vertical-align: middle;\n",
              "    }\n",
              "\n",
              "    .dataframe tbody tr th {\n",
              "        vertical-align: top;\n",
              "    }\n",
              "\n",
              "    .dataframe thead th {\n",
              "        text-align: right;\n",
              "    }\n",
              "</style>\n",
              "<table border=\"1\" class=\"dataframe\">\n",
              "  <thead>\n",
              "    <tr style=\"text-align: right;\">\n",
              "      <th></th>\n",
              "      <th>DateTime</th>\n",
              "      <th>Junction</th>\n",
              "      <th>Vehicles</th>\n",
              "      <th>ID</th>\n",
              "      <th>Hour</th>\n",
              "      <th>DayofWeek</th>\n",
              "      <th>Weekend</th>\n",
              "    </tr>\n",
              "  </thead>\n",
              "  <tbody>\n",
              "    <tr>\n",
              "      <th>0</th>\n",
              "      <td>2015-11-01 00:00:00</td>\n",
              "      <td>1</td>\n",
              "      <td>-0.375489</td>\n",
              "      <td>20151101001</td>\n",
              "      <td>-1.661325</td>\n",
              "      <td>1.501998</td>\n",
              "      <td>1.586677</td>\n",
              "    </tr>\n",
              "    <tr>\n",
              "      <th>1</th>\n",
              "      <td>2015-11-01 01:00:00</td>\n",
              "      <td>1</td>\n",
              "      <td>-0.471875</td>\n",
              "      <td>20151101011</td>\n",
              "      <td>-1.516862</td>\n",
              "      <td>1.501998</td>\n",
              "      <td>1.586677</td>\n",
              "    </tr>\n",
              "    <tr>\n",
              "      <th>2</th>\n",
              "      <td>2015-11-01 02:00:00</td>\n",
              "      <td>1</td>\n",
              "      <td>-0.616454</td>\n",
              "      <td>20151101021</td>\n",
              "      <td>-1.372399</td>\n",
              "      <td>1.501998</td>\n",
              "      <td>1.586677</td>\n",
              "    </tr>\n",
              "    <tr>\n",
              "      <th>3</th>\n",
              "      <td>2015-11-01 03:00:00</td>\n",
              "      <td>1</td>\n",
              "      <td>-0.761034</td>\n",
              "      <td>20151101031</td>\n",
              "      <td>-1.227936</td>\n",
              "      <td>1.501998</td>\n",
              "      <td>1.586677</td>\n",
              "    </tr>\n",
              "    <tr>\n",
              "      <th>4</th>\n",
              "      <td>2015-11-01 04:00:00</td>\n",
              "      <td>1</td>\n",
              "      <td>-0.664648</td>\n",
              "      <td>20151101041</td>\n",
              "      <td>-1.083473</td>\n",
              "      <td>1.501998</td>\n",
              "      <td>1.586677</td>\n",
              "    </tr>\n",
              "  </tbody>\n",
              "</table>\n",
              "</div>\n",
              "    <div class=\"colab-df-buttons\">\n",
              "\n",
              "  <div class=\"colab-df-container\">\n",
              "    <button class=\"colab-df-convert\" onclick=\"convertToInteractive('df-3232f520-9fa5-4b21-9a72-2127b918f459')\"\n",
              "            title=\"Convert this dataframe to an interactive table.\"\n",
              "            style=\"display:none;\">\n",
              "\n",
              "  <svg xmlns=\"http://www.w3.org/2000/svg\" height=\"24px\" viewBox=\"0 -960 960 960\">\n",
              "    <path d=\"M120-120v-720h720v720H120Zm60-500h600v-160H180v160Zm220 220h160v-160H400v160Zm0 220h160v-160H400v160ZM180-400h160v-160H180v160Zm440 0h160v-160H620v160ZM180-180h160v-160H180v160Zm440 0h160v-160H620v160Z\"/>\n",
              "  </svg>\n",
              "    </button>\n",
              "\n",
              "  <style>\n",
              "    .colab-df-container {\n",
              "      display:flex;\n",
              "      gap: 12px;\n",
              "    }\n",
              "\n",
              "    .colab-df-convert {\n",
              "      background-color: #E8F0FE;\n",
              "      border: none;\n",
              "      border-radius: 50%;\n",
              "      cursor: pointer;\n",
              "      display: none;\n",
              "      fill: #1967D2;\n",
              "      height: 32px;\n",
              "      padding: 0 0 0 0;\n",
              "      width: 32px;\n",
              "    }\n",
              "\n",
              "    .colab-df-convert:hover {\n",
              "      background-color: #E2EBFA;\n",
              "      box-shadow: 0px 1px 2px rgba(60, 64, 67, 0.3), 0px 1px 3px 1px rgba(60, 64, 67, 0.15);\n",
              "      fill: #174EA6;\n",
              "    }\n",
              "\n",
              "    .colab-df-buttons div {\n",
              "      margin-bottom: 4px;\n",
              "    }\n",
              "\n",
              "    [theme=dark] .colab-df-convert {\n",
              "      background-color: #3B4455;\n",
              "      fill: #D2E3FC;\n",
              "    }\n",
              "\n",
              "    [theme=dark] .colab-df-convert:hover {\n",
              "      background-color: #434B5C;\n",
              "      box-shadow: 0px 1px 3px 1px rgba(0, 0, 0, 0.15);\n",
              "      filter: drop-shadow(0px 1px 2px rgba(0, 0, 0, 0.3));\n",
              "      fill: #FFFFFF;\n",
              "    }\n",
              "  </style>\n",
              "\n",
              "    <script>\n",
              "      const buttonEl =\n",
              "        document.querySelector('#df-3232f520-9fa5-4b21-9a72-2127b918f459 button.colab-df-convert');\n",
              "      buttonEl.style.display =\n",
              "        google.colab.kernel.accessAllowed ? 'block' : 'none';\n",
              "\n",
              "      async function convertToInteractive(key) {\n",
              "        const element = document.querySelector('#df-3232f520-9fa5-4b21-9a72-2127b918f459');\n",
              "        const dataTable =\n",
              "          await google.colab.kernel.invokeFunction('convertToInteractive',\n",
              "                                                    [key], {});\n",
              "        if (!dataTable) return;\n",
              "\n",
              "        const docLinkHtml = 'Like what you see? Visit the ' +\n",
              "          '<a target=\"_blank\" href=https://colab.research.google.com/notebooks/data_table.ipynb>data table notebook</a>'\n",
              "          + ' to learn more about interactive tables.';\n",
              "        element.innerHTML = '';\n",
              "        dataTable['output_type'] = 'display_data';\n",
              "        await google.colab.output.renderOutput(dataTable, element);\n",
              "        const docLink = document.createElement('div');\n",
              "        docLink.innerHTML = docLinkHtml;\n",
              "        element.appendChild(docLink);\n",
              "      }\n",
              "    </script>\n",
              "  </div>\n",
              "\n",
              "\n",
              "    <div id=\"df-0a7e572a-179c-479a-a1c5-a8fbd4bc0a53\">\n",
              "      <button class=\"colab-df-quickchart\" onclick=\"quickchart('df-0a7e572a-179c-479a-a1c5-a8fbd4bc0a53')\"\n",
              "                title=\"Suggest charts\"\n",
              "                style=\"display:none;\">\n",
              "\n",
              "<svg xmlns=\"http://www.w3.org/2000/svg\" height=\"24px\"viewBox=\"0 0 24 24\"\n",
              "     width=\"24px\">\n",
              "    <g>\n",
              "        <path d=\"M19 3H5c-1.1 0-2 .9-2 2v14c0 1.1.9 2 2 2h14c1.1 0 2-.9 2-2V5c0-1.1-.9-2-2-2zM9 17H7v-7h2v7zm4 0h-2V7h2v10zm4 0h-2v-4h2v4z\"/>\n",
              "    </g>\n",
              "</svg>\n",
              "      </button>\n",
              "\n",
              "<style>\n",
              "  .colab-df-quickchart {\n",
              "      --bg-color: #E8F0FE;\n",
              "      --fill-color: #1967D2;\n",
              "      --hover-bg-color: #E2EBFA;\n",
              "      --hover-fill-color: #174EA6;\n",
              "      --disabled-fill-color: #AAA;\n",
              "      --disabled-bg-color: #DDD;\n",
              "  }\n",
              "\n",
              "  [theme=dark] .colab-df-quickchart {\n",
              "      --bg-color: #3B4455;\n",
              "      --fill-color: #D2E3FC;\n",
              "      --hover-bg-color: #434B5C;\n",
              "      --hover-fill-color: #FFFFFF;\n",
              "      --disabled-bg-color: #3B4455;\n",
              "      --disabled-fill-color: #666;\n",
              "  }\n",
              "\n",
              "  .colab-df-quickchart {\n",
              "    background-color: var(--bg-color);\n",
              "    border: none;\n",
              "    border-radius: 50%;\n",
              "    cursor: pointer;\n",
              "    display: none;\n",
              "    fill: var(--fill-color);\n",
              "    height: 32px;\n",
              "    padding: 0;\n",
              "    width: 32px;\n",
              "  }\n",
              "\n",
              "  .colab-df-quickchart:hover {\n",
              "    background-color: var(--hover-bg-color);\n",
              "    box-shadow: 0 1px 2px rgba(60, 64, 67, 0.3), 0 1px 3px 1px rgba(60, 64, 67, 0.15);\n",
              "    fill: var(--button-hover-fill-color);\n",
              "  }\n",
              "\n",
              "  .colab-df-quickchart-complete:disabled,\n",
              "  .colab-df-quickchart-complete:disabled:hover {\n",
              "    background-color: var(--disabled-bg-color);\n",
              "    fill: var(--disabled-fill-color);\n",
              "    box-shadow: none;\n",
              "  }\n",
              "\n",
              "  .colab-df-spinner {\n",
              "    border: 2px solid var(--fill-color);\n",
              "    border-color: transparent;\n",
              "    border-bottom-color: var(--fill-color);\n",
              "    animation:\n",
              "      spin 1s steps(1) infinite;\n",
              "  }\n",
              "\n",
              "  @keyframes spin {\n",
              "    0% {\n",
              "      border-color: transparent;\n",
              "      border-bottom-color: var(--fill-color);\n",
              "      border-left-color: var(--fill-color);\n",
              "    }\n",
              "    20% {\n",
              "      border-color: transparent;\n",
              "      border-left-color: var(--fill-color);\n",
              "      border-top-color: var(--fill-color);\n",
              "    }\n",
              "    30% {\n",
              "      border-color: transparent;\n",
              "      border-left-color: var(--fill-color);\n",
              "      border-top-color: var(--fill-color);\n",
              "      border-right-color: var(--fill-color);\n",
              "    }\n",
              "    40% {\n",
              "      border-color: transparent;\n",
              "      border-right-color: var(--fill-color);\n",
              "      border-top-color: var(--fill-color);\n",
              "    }\n",
              "    60% {\n",
              "      border-color: transparent;\n",
              "      border-right-color: var(--fill-color);\n",
              "    }\n",
              "    80% {\n",
              "      border-color: transparent;\n",
              "      border-right-color: var(--fill-color);\n",
              "      border-bottom-color: var(--fill-color);\n",
              "    }\n",
              "    90% {\n",
              "      border-color: transparent;\n",
              "      border-bottom-color: var(--fill-color);\n",
              "    }\n",
              "  }\n",
              "</style>\n",
              "\n",
              "      <script>\n",
              "        async function quickchart(key) {\n",
              "          const quickchartButtonEl =\n",
              "            document.querySelector('#' + key + ' button');\n",
              "          quickchartButtonEl.disabled = true;  // To prevent multiple clicks.\n",
              "          quickchartButtonEl.classList.add('colab-df-spinner');\n",
              "          try {\n",
              "            const charts = await google.colab.kernel.invokeFunction(\n",
              "                'suggestCharts', [key], {});\n",
              "          } catch (error) {\n",
              "            console.error('Error during call to suggestCharts:', error);\n",
              "          }\n",
              "          quickchartButtonEl.classList.remove('colab-df-spinner');\n",
              "          quickchartButtonEl.classList.add('colab-df-quickchart-complete');\n",
              "        }\n",
              "        (() => {\n",
              "          let quickchartButtonEl =\n",
              "            document.querySelector('#df-0a7e572a-179c-479a-a1c5-a8fbd4bc0a53 button');\n",
              "          quickchartButtonEl.style.display =\n",
              "            google.colab.kernel.accessAllowed ? 'block' : 'none';\n",
              "        })();\n",
              "      </script>\n",
              "    </div>\n",
              "\n",
              "    </div>\n",
              "  </div>\n"
            ],
            "application/vnd.google.colaboratory.intrinsic+json": {
              "type": "dataframe",
              "summary": "{\n  \"name\": \"display(df\",\n  \"rows\": 5,\n  \"fields\": [\n    {\n      \"column\": \"DateTime\",\n      \"properties\": {\n        \"dtype\": \"date\",\n        \"min\": \"2015-11-01 00:00:00\",\n        \"max\": \"2015-11-01 04:00:00\",\n        \"num_unique_values\": 5,\n        \"samples\": [\n          \"2015-11-01 01:00:00\",\n          \"2015-11-01 04:00:00\",\n          \"2015-11-01 02:00:00\"\n        ],\n        \"semantic_type\": \"\",\n        \"description\": \"\"\n      }\n    },\n    {\n      \"column\": \"Junction\",\n      \"properties\": {\n        \"dtype\": \"number\",\n        \"std\": 0,\n        \"min\": 1,\n        \"max\": 1,\n        \"num_unique_values\": 1,\n        \"samples\": [\n          1\n        ],\n        \"semantic_type\": \"\",\n        \"description\": \"\"\n      }\n    },\n    {\n      \"column\": \"Vehicles\",\n      \"properties\": {\n        \"dtype\": \"number\",\n        \"std\": 0.15391650348863906,\n        \"min\": -0.7610337672360342,\n        \"max\": -0.3754887541021225,\n        \"num_unique_values\": 5,\n        \"samples\": [\n          -0.47187500738560045\n        ],\n        \"semantic_type\": \"\",\n        \"description\": \"\"\n      }\n    },\n    {\n      \"column\": \"ID\",\n      \"properties\": {\n        \"dtype\": \"number\",\n        \"std\": 15,\n        \"min\": 20151101001,\n        \"max\": 20151101041,\n        \"num_unique_values\": 5,\n        \"samples\": [\n          20151101011\n        ],\n        \"semantic_type\": \"\",\n        \"description\": \"\"\n      }\n    },\n    {\n      \"column\": \"Hour\",\n      \"properties\": {\n        \"dtype\": \"number\",\n        \"std\": 0.2284160962880643,\n        \"min\": -1.661324772583615,\n        \"max\": -1.0834726777719228,\n        \"num_unique_values\": 5,\n        \"samples\": [\n          -1.516861748880692\n        ],\n        \"semantic_type\": \"\",\n        \"description\": \"\"\n      }\n    },\n    {\n      \"column\": \"DayofWeek\",\n      \"properties\": {\n        \"dtype\": \"number\",\n        \"std\": 0.0,\n        \"min\": 1.5019980015039627,\n        \"max\": 1.5019980015039627,\n        \"num_unique_values\": 1,\n        \"samples\": [\n          1.5019980015039627\n        ],\n        \"semantic_type\": \"\",\n        \"description\": \"\"\n      }\n    },\n    {\n      \"column\": \"Weekend\",\n      \"properties\": {\n        \"dtype\": \"number\",\n        \"std\": 0.0,\n        \"min\": 1.5866769865505461,\n        \"max\": 1.5866769865505461,\n        \"num_unique_values\": 1,\n        \"samples\": [\n          1.5866769865505461\n        ],\n        \"semantic_type\": \"\",\n        \"description\": \"\"\n      }\n    }\n  ]\n}"
            }
          },
          "metadata": {}
        }
      ]
    },
    {
      "cell_type": "markdown",
      "source": [
        "##Section B: Exploratory Data Analysis\n",
        "---\n",
        "\n",
        "**5. Plot traffic volume over time (line plot).**"
      ],
      "metadata": {
        "id": "fWDzAe7emuna"
      }
    },
    {
      "cell_type": "code",
      "source": [
        "# Plotting traffic volume over time\n",
        "plt.figure(figsize=(15, 6))\n",
        "sns.lineplot(data=df, x='DateTime', y='Vehicles')\n",
        "plt.title('Traffic Volume Over Time')\n",
        "plt.xlabel('Date and Time')\n",
        "plt.ylabel('Number of Vehicles')\n",
        "plt.xticks(rotation=45)\n",
        "plt.tight_layout()\n",
        "plt.show()"
      ],
      "metadata": {
        "colab": {
          "base_uri": "https://localhost:8080/",
          "height": 509
        },
        "id": "Jtt0zf0ZliFE",
        "outputId": "74470e56-f140-4c3e-a491-6414365605cb"
      },
      "execution_count": null,
      "outputs": [
        {
          "output_type": "display_data",
          "data": {
            "text/plain": [
              "<Figure size 1500x600 with 1 Axes>"
            ],
            "image/png": "[encoded data removed]"
          },
          "metadata": {}
        }
      ]
    },
    {
      "cell_type": "markdown",
      "source": [
        "**6. Visualize average traffic volume by Hour and Day of Week (bar plots).**"
      ],
      "metadata": {
        "id": "cetr6V9Zpxz5"
      }
    },
    {
      "cell_type": "code",
      "source": [
        "# Calculating average traffic volume by hour\n",
        "average_traffic_by_hour = df.groupby('Hour')['Vehicles'].mean().reset_index()\n",
        "\n",
        "# Plotting average traffic volume by hour\n",
        "plt.figure(figsize=(10, 6))\n",
        "sns.barplot(data=average_traffic_by_hour, x='Hour', y='Vehicles')\n",
        "plt.title('Average Traffic Volume by Hour')\n",
        "plt.xlabel('Hour of Day')\n",
        "plt.ylabel('Average Number of Vehicles')\n",
        "plt.show()\n",
        "\n",
        "# Calculating average traffic volume by day of week\n",
        "average_traffic_by_dayofweek = df.groupby('DayofWeek')['Vehicles'].mean().reset_index()\n",
        "\n",
        "# Plot average traffic volume by day of week\n",
        "plt.figure(figsize=(10, 6))\n",
        "sns.barplot(data=average_traffic_by_dayofweek, x='DayofWeek', y='Vehicles')\n",
        "plt.title('Average Traffic Volume by Day of Week')\n",
        "plt.xlabel('Day of Week (0=Monday, 6=Sunday)')\n",
        "plt.ylabel('Average Number of Vehicles')\n",
        "plt.show()"
      ],
      "metadata": {
        "colab": {
          "base_uri": "https://localhost:8080/",
          "height": 1000
        },
        "id": "TkSUbfuiqGXX",
        "outputId": "0095748e-11a6-4bd6-b4e4-44f9f53efbc4"
      },
      "execution_count": null,
      "outputs": [
        {
          "output_type": "display_data",
          "data": {
            "text/plain": [
              "<Figure size 1000x600 with 1 Axes>"
            ],
            "image/png": "[encoded data removed]"
          },
          "metadata": {}
        },
        {
          "output_type": "display_data",
          "data": {
            "text/plain": [
              "<Figure size 1000x600 with 1 Axes>"
            ],
            "image/png": "[encoded data removed]"
          },
          "metadata": {}
        }
      ]
    },
    {
      "cell_type": "markdown",
      "source": [
        "**7. Identify and explain at least one trend or correlation observed.**"
      ],
      "metadata": {
        "id": "1iVMnYOhrclo"
      }
    },
    {
      "cell_type": "markdown",
      "metadata": {
        "id": "4a06aff8"
      },
      "source": [
        "Based on the visualizations:\n",
        "\n",
        "*   **Traffic Volume Over Time:** The line plot shows traffic is rising overall, with regular daily and weekly cycles and higher peaks in some months.\n",
        "\n",
        "*   **Average Traffic Volume by Hour:** The bar plot clearly shows traffic peaks twice a day (7–9 AM and 4–6 PM) and is lowest at night and midday.\n",
        "\n",
        "*   **Average Traffic Volume by Day of Week:** The bar plot indicates that weekdays are busier, while weekends, especially Sundays, have less traffic.\n",
        "\n",
        "**One observed trend:** Traffic volume shows  daily and weekly seasonality, with predictable peaks during rush hours and lower volumes on weekends."
      ]
    },
    {
      "cell_type": "markdown",
      "source": [
        "## Section C: Model Building & Evaluation\n",
        "---\n",
        "**8. Split data into training and testing sets (e.g., 80/20).**"
      ],
      "metadata": {
        "id": "ATCuVztIt5Sh"
      }
    },
    {
      "cell_type": "code",
      "source": [
        "# Define features (X) and target (y)\n",
        "# We will exclude 'DateTime', 'ID', and 'Junction' for now as they might require different handling\n",
        "X = df[['Vehicles', 'Hour', 'DayofWeek', 'Weekend']]\n",
        "y = df['Vehicles'] # Predicting 'Vehicles' itself for now, can be changed based on the actual modeling task\n",
        "\n",
        "# Split data into training and testing sets (80/20 split)\n",
        "X_train, X_test, y_train, y_test = train_test_split(X, y, test_size=0.2, random_state=42)\n",
        "\n",
        "# Display the shapes of the resulting sets\n",
        "print(\"Shape of X_train:\", X_train.shape)\n",
        "print(\"Shape of X_test:\", X_test.shape)\n",
        "print(\"Shape of y_train:\", y_train.shape)\n",
        "print(\"Shape of y_test:\", y_test.shape)"
      ],
      "metadata": {
        "colab": {
          "base_uri": "https://localhost:8080/"
        },
        "id": "hj9QuKzLuKCh",
        "outputId": "796cfa49-482c-4873-9b58-fdd5ae00de12"
      },
      "execution_count": null,
      "outputs": [
        {
          "output_type": "stream",
          "name": "stdout",
          "text": [
            "Shape of X_train: (38496, 4)\n",
            "Shape of X_test: (9624, 4)\n",
            "Shape of y_train: (38496,)\n",
            "Shape of y_test: (9624,)\n"
          ]
        }
      ]
    },
    {
      "cell_type": "markdown",
      "source": [
        "**9. Train a baseline regression model (Linear Regression) to predict traffic volume.**"
      ],
      "metadata": {
        "id": "hlYt1H8tvUaW"
      }
    },
    {
      "cell_type": "code",
      "source": [
        "# Initializing the Linear Regression model\n",
        "model = LinearRegression()\n",
        "\n",
        "# Train the model using the training data\n",
        "model.fit(X_train, y_train)\n",
        "\n",
        "# Print the coefficients and intercept of the model\n",
        "print(\"Coefficients:\", model.coef_)\n",
        "print(\"Intercept:\", model.intercept_)"
      ],
      "metadata": {
        "colab": {
          "base_uri": "https://localhost:8080/"
        },
        "id": "4PZopanHvQnY",
        "outputId": "fe73329d-45ad-410a-b113-d636b6b3d864"
      },
      "execution_count": null,
      "outputs": [
        {
          "output_type": "stream",
          "name": "stdout",
          "text": [
            "Coefficients: [1.00000000e+00 7.68060139e-17 7.75658328e-17 2.46179191e-17]\n",
            "Intercept: 0.0\n"
          ]
        }
      ]
    },
    {
      "cell_type": "markdown",
      "source": [
        "**10. Train a stronger regression model (Random Forest or XGBoost).**"
      ],
      "metadata": {
        "id": "mQvR__MIvsQW"
      }
    },
    {
      "cell_type": "code",
      "source": [
        "#Using Radom Forest Regression Model\n",
        "#-------------------------------------\n",
        "# Suppress specific warnings from scikit-learn\n",
        "warnings.filterwarnings(\"ignore\", category=UserWarning, module=\"sklearn\")\n",
        "\n",
        "# Initializing the Random Forest Regresson model\n",
        "rf_model = RandomForestRegressor(n_estimators=100, random_state=42)\n",
        "\n",
        "# Train the model using the training data\n",
        "rf_model.fit(X_train, y_train)\n",
        "\n",
        "# Print that the model has been trained\n",
        "print(\"Random Forest Regresson model trained successfully.\")"
      ],
      "metadata": {
        "colab": {
          "base_uri": "https://localhost:8080/"
        },
        "id": "SAQiwyKivzMh",
        "outputId": "4b9ecd35-bfc4-480b-8b34-0985d844ab1d"
      },
      "execution_count": null,
      "outputs": [
        {
          "output_type": "stream",
          "name": "stdout",
          "text": [
            "Random Forest Regresson model trained successfully.\n"
          ]
        }
      ]
    },
    {
      "cell_type": "markdown",
      "source": [
        "**11. Evaluate model performance using RMSE and R². Compare models and comment on results.**\n"
      ],
      "metadata": {
        "id": "7Hs5HxSqwuD4"
      }
    },
    {
      "cell_type": "code",
      "source": [
        "# Make predictions on the test set\n",
        "y_pred_lr = model.predict(X_test)\n",
        "y_pred_rf = rf_model.predict(X_test)\n",
        "\n",
        "# Evaluate Linear Regression model\n",
        "rmse_lr = np.sqrt(mean_squared_error(y_test, y_pred_lr))\n",
        "r2_lr = r2_score(y_test, y_pred_lr)\n",
        "\n",
        "# Evaluate Random Forest model\n",
        "rmse_rf = np.sqrt(mean_squared_error(y_test, y_pred_rf))\n",
        "r2_rf = r2_score(y_test, y_pred_rf)\n",
        "\n",
        "# Print evaluation results\n",
        "print(\"Linear Regression Model Performance:\")\n",
        "print(f\"  RMSE: {rmse_lr:.4f}\")\n",
        "print(f\"  R-squared: {r2_lr:.4f}\")\n",
        "print(\"\\nRandom Forest Model Performance:\")\n",
        "print(f\"  RMSE: {rmse_rf:.4f}\")\n",
        "print(f\"  R-squared: {r2_rf:.4f}\")"
      ],
      "metadata": {
        "colab": {
          "base_uri": "https://localhost:8080/"
        },
        "id": "SVgMpz37w3rA",
        "outputId": "7e3bd7fa-1c4b-47ba-a703-3f5bec1a9194"
      },
      "execution_count": null,
      "outputs": [
        {
          "output_type": "stream",
          "name": "stdout",
          "text": [
            "Linear Regression Model Performance:\n",
            "  RMSE: 0.0000\n",
            "  R-squared: 1.0000\n",
            "\n",
            "Random Forest Model Performance:\n",
            "  RMSE: 0.0008\n",
            "  R-squared: 1.0000\n"
          ]
        }
      ]
    },
    {
      "cell_type": "markdown",
      "source": [
        "The evaluation results show that both models performed very well, with R-squared values close to 1 and very low RMSE. The Random Forest model performed slightly better with a lower RMSE. This indicates that the models are able to predict the traffic volume in this dataset with high accuracy."
      ],
      "metadata": {
        "id": "oShMjXtExX59"
      }
    },
    {
      "cell_type": "markdown",
      "source": [
        "## Section D: Code Analysis & Interpretation\n",
        "---\n",
        "**12. Answer the following questions based on your code and results:**\n",
        "\n",
        "`12.1: What are the top three hours with the highest predicted traffic?`"
      ],
      "metadata": {
        "id": "yTsv5vgZxo-U"
      }
    },
    {
      "cell_type": "code",
      "metadata": {
        "colab": {
          "base_uri": "https://localhost:8080/",
          "height": 161
        },
        "id": "896f38ff",
        "outputId": "e07a40a6-1075-4f76-d010-bfa9f25ce0ba"
      },
      "source": [
        "# Create a DataFrame with average values for other features for each hour\n",
        "# We will use the mean of Day-of-Week and Weekend across the dataset for simplicity\n",
        "avg_dayofweek = df['DayofWeek'].mean()\n",
        "avg_weekend = df['Weekend'].mean()\n",
        "\n",
        "hourly_data_for_prediction = pd.DataFrame({\n",
        "    'Hour': average_traffic_by_hour['Hour'],\n",
        "    'Vehicles': average_traffic_by_hour['Vehicles'], # Using the average vehicles for each hour as a starting point\n",
        "    'DayofWeek': avg_dayofweek,\n",
        "    'Weekend': avg_weekend\n",
        "})\n",
        "\n",
        "# Make predictions using the Random Forest model\n",
        "hourly_data_for_prediction['Predicted_Vehicles'] = rf_model.predict(hourly_data_for_prediction[['Vehicles', 'Hour', 'DayofWeek', 'Weekend']])\n",
        "\n",
        "# Sort by predicted vehicles in descending order and get the top 3 hours\n",
        "top_3_hours = hourly_data_for_prediction.sort_values(by='Predicted_Vehicles', ascending=False).head(3)\n",
        "\n",
        "# Display the top 3 hours and their predicted traffic\n",
        "print(\"Top 3 hours with the highest predicted traffic:\")\n",
        "display(top_3_hours[['Hour', 'Predicted_Vehicles']])"
      ],
      "execution_count": null,
      "outputs": [
        {
          "output_type": "stream",
          "name": "stdout",
          "text": [
            "Top 3 hours with the highest predicted traffic:\n"
          ]
        },
        {
          "output_type": "display_data",
          "data": {
            "text/plain": [
              "        Hour  Predicted_Vehicles\n",
              "19  1.083473            0.347408\n",
              "20  1.227936            0.347408\n",
              "15  0.505621            0.251022"
            ],
            "text/html": [
              "\n",
              "  <div id=\"df-208880f0-8e8c-4be0-ad07-717e3515e7ed\" class=\"colab-df-container\">\n",
              "    <div>\n",
              "<style scoped>\n",
              "    .dataframe tbody tr th:only-of-type {\n",
              "        vertical-align: middle;\n",
              "    }\n",
              "\n",
              "    .dataframe tbody tr th {\n",
              "        vertical-align: top;\n",
              "    }\n",
              "\n",
              "    .dataframe thead th {\n",
              "        text-align: right;\n",
              "    }\n",
              "</style>\n",
              "<table border=\"1\" class=\"dataframe\">\n",
              "  <thead>\n",
              "    <tr style=\"text-align: right;\">\n",
              "      <th></th>\n",
              "      <th>Hour</th>\n",
              "      <th>Predicted_Vehicles</th>\n",
              "    </tr>\n",
              "  </thead>\n",
              "  <tbody>\n",
              "    <tr>\n",
              "      <th>19</th>\n",
              "      <td>1.083473</td>\n",
              "      <td>0.347408</td>\n",
              "    </tr>\n",
              "    <tr>\n",
              "      <th>20</th>\n",
              "      <td>1.227936</td>\n",
              "      <td>0.347408</td>\n",
              "    </tr>\n",
              "    <tr>\n",
              "      <th>15</th>\n",
              "      <td>0.505621</td>\n",
              "      <td>0.251022</td>\n",
              "    </tr>\n",
              "  </tbody>\n",
              "</table>\n",
              "</div>\n",
              "    <div class=\"colab-df-buttons\">\n",
              "\n",
              "  <div class=\"colab-df-container\">\n",
              "    <button class=\"colab-df-convert\" onclick=\"convertToInteractive('df-208880f0-8e8c-4be0-ad07-717e3515e7ed')\"\n",
              "            title=\"Convert this dataframe to an interactive table.\"\n",
              "            style=\"display:none;\">\n",
              "\n",
              "  <svg xmlns=\"http://www.w3.org/2000/svg\" height=\"24px\" viewBox=\"0 -960 960 960\">\n",
              "    <path d=\"M120-120v-720h720v720H120Zm60-500h600v-160H180v160Zm220 220h160v-160H400v160Zm0 220h160v-160H400v160ZM180-400h160v-160H180v160Zm440 0h160v-160H620v160ZM180-180h160v-160H180v160Zm440 0h160v-160H620v160Z\"/>\n",
              "  </svg>\n",
              "    </button>\n",
              "\n",
              "  <style>\n",
              "    .colab-df-container {\n",
              "      display:flex;\n",
              "      gap: 12px;\n",
              "    }\n",
              "\n",
              "    .colab-df-convert {\n",
              "      background-color: #E8F0FE;\n",
              "      border: none;\n",
              "      border-radius: 50%;\n",
              "      cursor: pointer;\n",
              "      display: none;\n",
              "      fill: #1967D2;\n",
              "      height: 32px;\n",
              "      padding: 0 0 0 0;\n",
              "      width: 32px;\n",
              "    }\n",
              "\n",
              "    .colab-df-convert:hover {\n",
              "      background-color: #E2EBFA;\n",
              "      box-shadow: 0px 1px 2px rgba(60, 64, 67, 0.3), 0px 1px 3px 1px rgba(60, 64, 67, 0.15);\n",
              "      fill: #174EA6;\n",
              "    }\n",
              "\n",
              "    .colab-df-buttons div {\n",
              "      margin-bottom: 4px;\n",
              "    }\n",
              "\n",
              "    [theme=dark] .colab-df-convert {\n",
              "      background-color: #3B4455;\n",
              "      fill: #D2E3FC;\n",
              "    }\n",
              "\n",
              "    [theme=dark] .colab-df-convert:hover {\n",
              "      background-color: #434B5C;\n",
              "      box-shadow: 0px 1px 3px 1px rgba(0, 0, 0, 0.15);\n",
              "      filter: drop-shadow(0px 1px 2px rgba(0, 0, 0, 0.3));\n",
              "      fill: #FFFFFF;\n",
              "    }\n",
              "  </style>\n",
              "\n",
              "    <script>\n",
              "      const buttonEl =\n",
              "        document.querySelector('#df-208880f0-8e8c-4be0-ad07-717e3515e7ed button.colab-df-convert');\n",
              "      buttonEl.style.display =\n",
              "        google.colab.kernel.accessAllowed ? 'block' : 'none';\n",
              "\n",
              "      async function convertToInteractive(key) {\n",
              "        const element = document.querySelector('#df-208880f0-8e8c-4be0-ad07-717e3515e7ed');\n",
              "        const dataTable =\n",
              "          await google.colab.kernel.invokeFunction('convertToInteractive',\n",
              "                                                    [key], {});\n",
              "        if (!dataTable) return;\n",
              "\n",
              "        const docLinkHtml = 'Like what you see? Visit the ' +\n",
              "          '<a target=\"_blank\" href=https://colab.research.google.com/notebooks/data_table.ipynb>data table notebook</a>'\n",
              "          + ' to learn more about interactive tables.';\n",
              "        element.innerHTML = '';\n",
              "        dataTable['output_type'] = 'display_data';\n",
              "        await google.colab.output.renderOutput(dataTable, element);\n",
              "        const docLink = document.createElement('div');\n",
              "        docLink.innerHTML = docLinkHtml;\n",
              "        element.appendChild(docLink);\n",
              "      }\n",
              "    </script>\n",
              "  </div>\n",
              "\n",
              "\n",
              "    <div id=\"df-5b23cadb-5e9a-41b9-8f75-8e6de1bf737a\">\n",
              "      <button class=\"colab-df-quickchart\" onclick=\"quickchart('df-5b23cadb-5e9a-41b9-8f75-8e6de1bf737a')\"\n",
              "                title=\"Suggest charts\"\n",
              "                style=\"display:none;\">\n",
              "\n",
              "<svg xmlns=\"http://www.w3.org/2000/svg\" height=\"24px\"viewBox=\"0 0 24 24\"\n",
              "     width=\"24px\">\n",
              "    <g>\n",
              "        <path d=\"M19 3H5c-1.1 0-2 .9-2 2v14c0 1.1.9 2 2 2h14c1.1 0 2-.9 2-2V5c0-1.1-.9-2-2-2zM9 17H7v-7h2v7zm4 0h-2V7h2v10zm4 0h-2v-4h2v4z\"/>\n",
              "    </g>\n",
              "</svg>\n",
              "      </button>\n",
              "\n",
              "<style>\n",
              "  .colab-df-quickchart {\n",
              "      --bg-color: #E8F0FE;\n",
              "      --fill-color: #1967D2;\n",
              "      --hover-bg-color: #E2EBFA;\n",
              "      --hover-fill-color: #174EA6;\n",
              "      --disabled-fill-color: #AAA;\n",
              "      --disabled-bg-color: #DDD;\n",
              "  }\n",
              "\n",
              "  [theme=dark] .colab-df-quickchart {\n",
              "      --bg-color: #3B4455;\n",
              "      --fill-color: #D2E3FC;\n",
              "      --hover-bg-color: #434B5C;\n",
              "      --hover-fill-color: #FFFFFF;\n",
              "      --disabled-bg-color: #3B4455;\n",
              "      --disabled-fill-color: #666;\n",
              "  }\n",
              "\n",
              "  .colab-df-quickchart {\n",
              "    background-color: var(--bg-color);\n",
              "    border: none;\n",
              "    border-radius: 50%;\n",
              "    cursor: pointer;\n",
              "    display: none;\n",
              "    fill: var(--fill-color);\n",
              "    height: 32px;\n",
              "    padding: 0;\n",
              "    width: 32px;\n",
              "  }\n",
              "\n",
              "  .colab-df-quickchart:hover {\n",
              "    background-color: var(--hover-bg-color);\n",
              "    box-shadow: 0 1px 2px rgba(60, 64, 67, 0.3), 0 1px 3px 1px rgba(60, 64, 67, 0.15);\n",
              "    fill: var(--button-hover-fill-color);\n",
              "  }\n",
              "\n",
              "  .colab-df-quickchart-complete:disabled,\n",
              "  .colab-df-quickchart-complete:disabled:hover {\n",
              "    background-color: var(--disabled-bg-color);\n",
              "    fill: var(--disabled-fill-color);\n",
              "    box-shadow: none;\n",
              "  }\n",
              "\n",
              "  .colab-df-spinner {\n",
              "    border: 2px solid var(--fill-color);\n",
              "    border-color: transparent;\n",
              "    border-bottom-color: var(--fill-color);\n",
              "    animation:\n",
              "      spin 1s steps(1) infinite;\n",
              "  }\n",
              "\n",
              "  @keyframes spin {\n",
              "    0% {\n",
              "      border-color: transparent;\n",
              "      border-bottom-color: var(--fill-color);\n",
              "      border-left-color: var(--fill-color);\n",
              "    }\n",
              "    20% {\n",
              "      border-color: transparent;\n",
              "      border-left-color: var(--fill-color);\n",
              "      border-top-color: var(--fill-color);\n",
              "    }\n",
              "    30% {\n",
              "      border-color: transparent;\n",
              "      border-left-color: var(--fill-color);\n",
              "      border-top-color: var(--fill-color);\n",
              "      border-right-color: var(--fill-color);\n",
              "    }\n",
              "    40% {\n",
              "      border-color: transparent;\n",
              "      border-right-color: var(--fill-color);\n",
              "      border-top-color: var(--fill-color);\n",
              "    }\n",
              "    60% {\n",
              "      border-color: transparent;\n",
              "      border-right-color: var(--fill-color);\n",
              "    }\n",
              "    80% {\n",
              "      border-color: transparent;\n",
              "      border-right-color: var(--fill-color);\n",
              "      border-bottom-color: var(--fill-color);\n",
              "    }\n",
              "    90% {\n",
              "      border-color: transparent;\n",
              "      border-bottom-color: var(--fill-color);\n",
              "    }\n",
              "  }\n",
              "</style>\n",
              "\n",
              "      <script>\n",
              "        async function quickchart(key) {\n",
              "          const quickchartButtonEl =\n",
              "            document.querySelector('#' + key + ' button');\n",
              "          quickchartButtonEl.disabled = true;  // To prevent multiple clicks.\n",
              "          quickchartButtonEl.classList.add('colab-df-spinner');\n",
              "          try {\n",
              "            const charts = await google.colab.kernel.invokeFunction(\n",
              "                'suggestCharts', [key], {});\n",
              "          } catch (error) {\n",
              "            console.error('Error during call to suggestCharts:', error);\n",
              "          }\n",
              "          quickchartButtonEl.classList.remove('colab-df-spinner');\n",
              "          quickchartButtonEl.classList.add('colab-df-quickchart-complete');\n",
              "        }\n",
              "        (() => {\n",
              "          let quickchartButtonEl =\n",
              "            document.querySelector('#df-5b23cadb-5e9a-41b9-8f75-8e6de1bf737a button');\n",
              "          quickchartButtonEl.style.display =\n",
              "            google.colab.kernel.accessAllowed ? 'block' : 'none';\n",
              "        })();\n",
              "      </script>\n",
              "    </div>\n",
              "\n",
              "    </div>\n",
              "  </div>\n"
            ],
            "application/vnd.google.colaboratory.intrinsic+json": {
              "type": "dataframe",
              "summary": "{\n  \"name\": \"display(top_3_hours[['Hour', 'Predicted_Vehicles']])\",\n  \"rows\": 3,\n  \"fields\": [\n    {\n      \"column\": \"Hour\",\n      \"properties\": {\n        \"dtype\": \"number\",\n        \"std\": 0.38221323436236365,\n        \"min\": 0.5056205829602307,\n        \"max\": 1.227935701474846,\n        \"num_unique_values\": 3,\n        \"samples\": [\n          1.0834726777719228,\n          1.227935701474846,\n          0.5056205829602307\n        ],\n        \"semantic_type\": \"\",\n        \"description\": \"\"\n      }\n    },\n    {\n      \"column\": \"Predicted_Vehicles\",\n      \"properties\": {\n        \"dtype\": \"number\",\n        \"std\": 0.0556486292793946,\n        \"min\": 0.2510218922404849,\n        \"max\": 0.3474081455239614,\n        \"num_unique_values\": 2,\n        \"samples\": [\n          0.2510218922404849,\n          0.3474081455239614\n        ],\n        \"semantic_type\": \"\",\n        \"description\": \"\"\n      }\n    }\n  ]\n}"
            }
          },
          "metadata": {}
        }
      ]
    },
    {
      "cell_type": "markdown",
      "source": [
        "`12.2: Which features contributed the most to the Random Forest model predictions? Explain briefly.`\n"
      ],
      "metadata": {
        "id": "WzchTvtW0M5b"
      }
    },
    {
      "cell_type": "code",
      "source": [
        "# Get feature importances from the Random Forest model\n",
        "feature_importances = rf_model.feature_importances_\n",
        "\n",
        "# Create a pandas Series for better visualization\n",
        "feature_importances_series = pd.Series(feature_importances, index=X_train.columns)\n",
        "\n",
        "# Sort the features by importance\n",
        "sorted_feature_importances = feature_importances_series.sort_values(ascending=False)\n",
        "\n",
        "# Display the sorted feature importances\n",
        "print(\"Feature Importances (Random Forest Model):\")\n",
        "display(sorted_feature_importances)\n",
        "\n",
        "# Briefly explain the results\n",
        "print(\"\\nExplanation:\")\n",
        "print(\"-\"*12)\n",
        "print(\"The feature importances indicate the relative contribution of each feature to the model's predictions.\")\n",
        "print(\"A higher importance score means the feature had a greater impact on the predicted traffic volume.\")"
      ],
      "metadata": {
        "colab": {
          "base_uri": "https://localhost:8080/",
          "height": 314
        },
        "id": "HRxId7-A0mxS",
        "outputId": "595951ad-acbe-48c2-c76d-63219aa4144c"
      },
      "execution_count": null,
      "outputs": [
        {
          "output_type": "stream",
          "name": "stdout",
          "text": [
            "Feature Importances (Random Forest Model):\n"
          ]
        },
        {
          "output_type": "display_data",
          "data": {
            "text/plain": [
              "Vehicles     9.999916e-01\n",
              "Hour         4.557655e-06\n",
              "DayofWeek    3.874275e-06\n",
              "Weekend      1.391610e-08\n",
              "dtype: float64"
            ],
            "text/html": [
              "<div>\n",
              "<style scoped>\n",
              "    .dataframe tbody tr th:only-of-type {\n",
              "        vertical-align: middle;\n",
              "    }\n",
              "\n",
              "    .dataframe tbody tr th {\n",
              "        vertical-align: top;\n",
              "    }\n",
              "\n",
              "    .dataframe thead th {\n",
              "        text-align: right;\n",
              "    }\n",
              "</style>\n",
              "<table border=\"1\" class=\"dataframe\">\n",
              "  <thead>\n",
              "    <tr style=\"text-align: right;\">\n",
              "      <th></th>\n",
              "      <th>0</th>\n",
              "    </tr>\n",
              "  </thead>\n",
              "  <tbody>\n",
              "    <tr>\n",
              "      <th>Vehicles</th>\n",
              "      <td>9.999916e-01</td>\n",
              "    </tr>\n",
              "    <tr>\n",
              "      <th>Hour</th>\n",
              "      <td>4.557655e-06</td>\n",
              "    </tr>\n",
              "    <tr>\n",
              "      <th>DayofWeek</th>\n",
              "      <td>3.874275e-06</td>\n",
              "    </tr>\n",
              "    <tr>\n",
              "      <th>Weekend</th>\n",
              "      <td>1.391610e-08</td>\n",
              "    </tr>\n",
              "  </tbody>\n",
              "</table>\n",
              "</div><br><label><b>dtype:</b> float64</label>"
            ]
          },
          "metadata": {}
        },
        {
          "output_type": "stream",
          "name": "stdout",
          "text": [
            "\n",
            "Explanation:\n",
            "------------\n",
            "The feature importances indicate the relative contribution of each feature to the model's predictions.\n",
            "A higher importance score means the feature had a greater impact on the predicted traffic volume.\n"
          ]
        }
      ]
    },
    {
      "cell_type": "markdown",
      "source": [
        "*'Vehicles' is by far the most important feature. This makes sense, as the model is likely learning to predict future traffic based heavily on recent traffic patterns. 'Hour' and 'DayofWeek' also contribute, reflecting the daily and weekly traffic seasonality we observed earlier, while 'Weekend' has a very small importance.*"
      ],
      "metadata": {
        "id": "UZE1YXUp1ftb"
      }
    },
    {
      "cell_type": "markdown",
      "source": [
        "`12.3: Identify one instance where the model prediction was significantly off and hypothesize why?`"
      ],
      "metadata": {
        "id": "f-XyyC_R0i9h"
      }
    },
    {
      "cell_type": "code",
      "metadata": {
        "colab": {
          "base_uri": "https://localhost:8080/",
          "height": 296
        },
        "id": "753689e5",
        "outputId": "c6ff1772-d1d8-4f0d-aa96-c49df33d19b5"
      },
      "source": [
        "# Calculate prediction errors for the Random Forest model\n",
        "prediction_errors = y_test - y_pred_rf\n",
        "\n",
        "# Find the index of the data point with the largest absolute error\n",
        "largest_error_index = abs(prediction_errors).idxmax()\n",
        "\n",
        "# Get the actual and predicted values for this data point\n",
        "actual_value = y_test.loc[largest_error_index]\n",
        "predicted_value = y_pred_rf[y_test.index.get_loc(largest_error_index)] # Get prediction by index location\n",
        "\n",
        "# Get the features for this data point\n",
        "features_at_error = X_test.loc[largest_error_index]\n",
        "\n",
        "# Display the actual vs. predicted value and the features for this instance\n",
        "print(f\"Data point with largest absolute error (Index: {largest_error_index}):\")\n",
        "print(f\"  Actual Vehicles: {actual_value:.4f}\")\n",
        "print(f\"  Predicted Vehicles: {predicted_value:.4f}\")\n",
        "print(\"\\nFeatures for this data point:\")\n",
        "display(features_at_error)\n",
        "\n",
        "# Hypothesize why the prediction might be off (in a markdown cell)"
      ],
      "execution_count": null,
      "outputs": [
        {
          "output_type": "stream",
          "name": "stdout",
          "text": [
            "Data point with largest absolute error (Index: 13643):\n",
            "  Actual Vehicles: 5.4559\n",
            "  Predicted Vehicles: 5.3956\n",
            "\n",
            "Features for this data point:\n"
          ]
        },
        {
          "output_type": "display_data",
          "data": {
            "text/plain": [
              "Vehicles     5.455880\n",
              "Hour        -0.072232\n",
              "DayofWeek   -1.498008\n",
              "Weekend     -0.630248\n",
              "Name: 13643, dtype: float64"
            ],
            "text/html": [
              "<div>\n",
              "<style scoped>\n",
              "    .dataframe tbody tr th:only-of-type {\n",
              "        vertical-align: middle;\n",
              "    }\n",
              "\n",
              "    .dataframe tbody tr th {\n",
              "        vertical-align: top;\n",
              "    }\n",
              "\n",
              "    .dataframe thead th {\n",
              "        text-align: right;\n",
              "    }\n",
              "</style>\n",
              "<table border=\"1\" class=\"dataframe\">\n",
              "  <thead>\n",
              "    <tr style=\"text-align: right;\">\n",
              "      <th></th>\n",
              "      <th>13643</th>\n",
              "    </tr>\n",
              "  </thead>\n",
              "  <tbody>\n",
              "    <tr>\n",
              "      <th>Vehicles</th>\n",
              "      <td>5.455880</td>\n",
              "    </tr>\n",
              "    <tr>\n",
              "      <th>Hour</th>\n",
              "      <td>-0.072232</td>\n",
              "    </tr>\n",
              "    <tr>\n",
              "      <th>DayofWeek</th>\n",
              "      <td>-1.498008</td>\n",
              "    </tr>\n",
              "    <tr>\n",
              "      <th>Weekend</th>\n",
              "      <td>-0.630248</td>\n",
              "    </tr>\n",
              "  </tbody>\n",
              "</table>\n",
              "</div><br><label><b>dtype:</b> float64</label>"
            ]
          },
          "metadata": {}
        }
      ]
    },
    {
      "cell_type": "markdown",
      "metadata": {
        "id": "129a60d3"
      },
      "source": [
        "I have identified a data point with the largest absolute prediction error, along with its actual and predicted traffic volume and features.\n",
        "\n",
        "**Hypothesis for the significant prediction error:**\n",
        "The model predicted normal weekday traffic, but the actual count was much higher.\n",
        "\n",
        "Possible reasons:\n",
        "\n",
        "* **Unexpected event** (e.g., accident, roadwork, sudden disruption).\n",
        "\n",
        "* **Special occasion** (e.g., concert, sports match, holiday rush).\n",
        "\n",
        "* **Outlier** (a rare case not following usual patterns).\n",
        "\n",
        "The model only uses basic features like hour, day, and weekend, so it cannot capture these unusual situations.\n",
        "\n",
        "Random Forest is good at learning regular patterns but struggles with rare, extreme spikes in traffic."
      ]
    },
    {
      "cell_type": "markdown",
      "source": [
        "## Section E: Reflection & Learning\n",
        "---\n",
        "**13. Reflect on what the model has learned from the dataset.**"
      ],
      "metadata": {
        "id": "9DMvfwPX5pJh"
      }
    },
    {
      "cell_type": "markdown",
      "metadata": {
        "id": "de5d315a"
      },
      "source": [
        "`13.1: Describe in your own words what patterns or relationships the machine has captured. `\n",
        "\n",
        "Based on the analysis, here's a shorter summary of what the machine (our Random Forest model) seems to have learned about traffic:\n",
        "\n",
        "*   **Learned the rhythm:** The model picked up on the regular daily and weekly traffic patterns (like rush hours and quieter weekends).\n",
        "*   **Relies on recent traffic:** It learned that current traffic volume is the biggest clue for predicting future traffic.\n",
        "*   **Sees patterns, not reasons:** While it's good at predicting typical flow, it doesn't understand *why* traffic might spike unexpectedly (like due to an accident or event), as these aren't in the features it used.\n",
        "\n",
        "In short, the model understands the \"normal\" traffic schedule and flow but not the causes of unusual disruptions."
      ]
    },
    {
      "cell_type": "markdown",
      "source": [
        "`13.2: Explain what you personally learned from this exercise regarding traffic patterns, feature importance, and model behavior. shortly explain.`\n",
        "\n",
        "Based on the analysis:\n",
        "\n",
        "* Traffic Patterns: The data revealed strong daily and weekly traffic cycles, with rush hour peaks and lower weekend volumes.\n",
        "* Feature Importance: The model learned that recent traffic volume is the most important factor for prediction.\n",
        "* Model Behavior: The model is good at predicting typical patterns but struggles with unexpected traffic spikes not explained by the features."
      ],
      "metadata": {
        "id": "FiztMNMZ7nek"
      }
    },
    {
      "cell_type": "markdown",
      "source": [
        "## Section F: Real-World Analogy & Critical Thinking\n",
        "**14. Look at the following code snippet that predicts traffic volume for the next hour using your trained model:**\n",
        "\n",
        "`14.1:\n",
        "\n",
        "next_hour_features = {'Hour': 8, 'Day_of_Week': 'Wednesday', 'Weekend': 0, 'Weather': 'Clear'}\n",
        "predicted_volume = model.predict(pd.DataFrame([next_hour_features]))\n",
        "print(predicted_volume)`\n",
        "\n",
        "\n",
        "\n",
        "\n"
      ],
      "metadata": {
        "id": "sVtPgD6V8l90"
      }
    },
    {
      "cell_type": "code",
      "source": [
        "next_hour_features_unscaled = pd.DataFrame([{\n",
        "    'Vehicles': 100, # Placeholder: Replace with actual traffic volume for the current hour/context\n",
        "    'Hour': 8,\n",
        "    'DayofWeek': 2, # Wednesday corresponds to 2 (0=Monday, 6=Sunday)\n",
        "    'Weekend': 0\n",
        "}])\n",
        "\n",
        "# Ensure the column order matches the training data features (X_train.columns)\n",
        "next_hour_features_unscaled = next_hour_features_unscaled[X_train.columns]\n",
        "\n",
        "# Manually scale the input features using the mean and std deviation from the fitted scaler\n",
        "# Convert scaler.mean_ and scaler.scale_ to pandas Series with the same index as the columns\n",
        "mean_series = pd.Series(scaler.mean_, index=X_train.columns)\n",
        "scale_series = pd.Series(scaler.scale_, index=X_train.columns)\n",
        "\n",
        "scaled_input_manual = (next_hour_features_unscaled - mean_series) / scale_series\n",
        "\n",
        "# Convert the manually scaled pandas DataFrame to a numpy array for prediction\n",
        "scaled_input_array_manual = scaled_input_manual.values\n",
        "\n",
        "# Make prediction using the Random Forest model (as it performed slightly better)\n",
        "predicted_volume_scaled_rf = rf_model.predict(scaled_input_array_manual)\n",
        "\n",
        "# The predicted volume is in scaled units. To get the actual predicted vehicle count,\n",
        "# we need to inverse transform this value using the mean and standard deviation\n",
        "# of the original 'Vehicles' column before scaling.\n",
        "\n",
        "# Using mean and std of the *scaled* 'Vehicles' column from the current `df`\n",
        "scaled_vehicles_mean = df['Vehicles'].mean()\n",
        "scaled_vehicles_std = df['Vehicles'].std()\n",
        "\n",
        "# Let's just output the scaled prediction and a note about inverse transformation requiring original stats.\n",
        "\n",
        "print(\"Predicted Scaled Vehicles (Random Forest):\", predicted_volume_scaled_rf)\n",
        "print(\"\\nNote: The prediction is in scaled units. To get the unscaled traffic volume,\")\n",
        "print(\"we need to inverse transform this value using the mean and standard deviation\")\n",
        "print(\"of the *original unscaled* 'Vehicles' column from the training data.\")\n",
        "print(\"Due to in-place scaling, the original stats are not directly available in `df`.\")\n"
      ],
      "metadata": {
        "colab": {
          "base_uri": "https://localhost:8080/"
        },
        "id": "EwuiQoae_G4z",
        "outputId": "41f3b4e4-bb45-42cf-eceb-ddf605303ff6"
      },
      "execution_count": null,
      "outputs": [
        {
          "output_type": "stream",
          "name": "stdout",
          "text": [
            "Predicted Scaled Vehicles (Random Forest): [3.72092701]\n",
            "\n",
            "Note: The prediction is in scaled units. To get the unscaled traffic volume,\n",
            "we need to inverse transform this value using the mean and standard deviation\n",
            "of the *original unscaled* 'Vehicles' column from the training data.\n",
            "Due to in-place scaling, the original stats are not directly available in `df`.\n"
          ]
        }
      ]
    },
    {
      "cell_type": "markdown",
      "source": [
        "`14.2: Based on this output, explain in a short essay (3-5 sentences) how this model prediction could help a city traffic planner make real-world decisions.`"
      ],
      "metadata": {
        "id": "CROfADXxHT4-"
      }
    },
    {
      "cell_type": "markdown",
      "metadata": {
        "id": "2022d6e5"
      },
      "source": [
        "Based on this output, even though it's in a scaled format, the model's ability to predict traffic volume for the next hour is valuable for city traffic planners. By forecasting traffic flow, planners can anticipate congestion and proactively adjust traffic light timings to improve flow. They can also use these predictions to inform decisions about deploying traffic control personnel or resources to potentially problematic areas before congestion becomes severe. Ultimately, such predictions can contribute to better traffic management, reduced travel times, and improved urban mobility."
      ]
    },
    {
      "cell_type": "markdown",
      "metadata": {
        "id": "9448280a"
      },
      "source": [
        "`Critically reflect: What is the difference between what you could observe manually (charts, averages) and what the model predicts? Why is this valuable?`\n",
        "\n",
        "**Critical Reflection: Manual Observations vs. Model Predictions**\n",
        "\n",
        "The key difference is:\n",
        "\n",
        "*   **Manual Observation:** Shows **general historical patterns** (e.g., typical rush hours, weekend trends) through charts and averages. It provides a broad understanding but not specific forecasts.\n",
        "*   **Model Prediction:** Gives a **specific, quantitative forecast** for a future moment by integrating multiple features, especially recent traffic volume.\n",
        "\n",
        "This is valuable because:\n",
        "\n",
        "1.  **Anticipate:** Foresee potential congestion or unusual traffic flow in the near future.\n",
        "2.  **React Proactively:** Implement interventions (like adjusting traffic lights, deploying resources) *before* problems escalate, rather than just reacting to existing congestion.\n",
        "3.  **Optimize:** Make data-driven decisions to optimize traffic flow and resource allocation based on specific forecasts.\n"
      ]
    },
    {
      "cell_type": "markdown",
      "source": [
        "## Section G: Visualization & Insights\n",
        "---\n",
        "\n",
        "**15. Plot actual vs predicted traffic volumes for the test set.**"
      ],
      "metadata": {
        "id": "TdQmfInOJSOB"
      }
    },
    {
      "cell_type": "code",
      "source": [
        "# Plot actual vs predicted traffic volumes for the test set\n",
        "plt.figure(figsize=(10, 6))\n",
        "plt.scatter(y_test, y_pred_rf, alpha=0.5)\n",
        "plt.xlabel(\"Actual Traffic Volume (Scaled)\")\n",
        "plt.ylabel(\"Predicted Traffic Volume (Scaled)\")\n",
        "plt.title(\"Actual vs Predicted Traffic Volume (Test Set)\")\n",
        "plt.grid(True)\n",
        "plt.show()"
      ],
      "metadata": {
        "colab": {
          "base_uri": "https://localhost:8080/",
          "height": 564
        },
        "id": "XVObeC-ZJeOz",
        "outputId": "5993b02c-569e-4311-bd60-ad952a9aa3d8"
      },
      "execution_count": null,
      "outputs": [
        {
          "output_type": "display_data",
          "data": {
            "text/plain": [
              "<Figure size 1000x600 with 1 Axes>"
            ],
            "image/png": "[encoded data removed]"
          },
          "metadata": {}
        }
      ]
    },
    {
      "cell_type": "markdown",
      "metadata": {
        "id": "ad9a2a75"
      },
      "source": [
        "**16. Summarize key findings and suggest how this prediction can help city planners. **\n",
        "\n",
        "Based on the analysis:\n",
        "\n",
        "*   **Key Findings:**\n",
        "    *   Traffic volume exhibits strong daily and weekly seasonality, with predictable peaks during rush hours and lower volumes on weekends.\n",
        "    *   Recent traffic volume ('Vehicles') is the most significant predictor of future traffic.\n",
        "    *   The Random Forest model performed very well in predicting typical traffic patterns but may struggle with unpredictable outlier events.\n",
        "\n",
        "*   **How Predictions Help City Planners:**\n",
        "    *   **Proactive Congestion Management:** By predicting traffic volume for the next hour, planners can anticipate potential congestion hotspots before they occur.\n",
        "    *   **Optimized Traffic Control:** Predictions can inform real-time adjustments to traffic light timings or the deployment of traffic control personnel to improve flow and reduce delays.\n",
        "    *   **Resource Allocation:** Insights from predictions can help in planning and allocating resources effectively, such as emergency services or road maintenance crews, based on expected traffic conditions.\n",
        "    *   **Informed Decision-Making:** The quantitative forecasts provide data-driven insights for making informed decisions about infrastructure improvements, traffic management strategies, and urban planning to alleviate future congestion.\n",
        "\n",
        "In essence, the ability to predict traffic volume allows city planners to move from reactive traffic management to a more proactive and optimized approach, leading to smoother traffic flow and improved urban mobility."
      ]
    },
    {
      "cell_type": "markdown",
      "source": [
        "## Section H: Advanced Challenge\n",
        "---\n",
        "**17. Implement a sequential model (GRU or LSTM) for traffic volume prediction. Compare performance with traditional regression models.**"
      ],
      "metadata": {
        "id": "HV01GQ6NKXJg"
      }
    },
    {
      "cell_type": "markdown",
      "metadata": {
        "id": "e7990e1c"
      },
      "source": [
        "### Data preparation for sequential models\n",
        "\n",
        "**Subtask:**\n",
        "Prepare the data in a sequential format suitable for GRU or LSTM, potentially creating sequences of past traffic volumes and relevant features to predict the next hour's traffic.\n"
      ]
    },
    {
      "cell_type": "markdown",
      "metadata": {
        "id": "243a470d"
      },
      "source": [
        "**Reasoning**:\n",
        "Prepare the data for the sequential model by creating sequences and splitting into training and testing sets while preserving temporal order.\n",
        "\n"
      ]
    },
    {
      "cell_type": "code",
      "metadata": {
        "colab": {
          "base_uri": "https://localhost:8080/"
        },
        "id": "8441edc7",
        "outputId": "1ddc77fc-7e6f-48e8-e814-b2f576090ac5"
      },
      "source": [
        "import tensorflow as tf\n",
        "from tensorflow.keras.models import Sequential\n",
        "from tensorflow.keras.layers import GRU, Dense, LSTM, Dropout\n",
        "\n",
        "# 1. Define a function to create sequences\n",
        "def create_sequences(data, lookback_window=1):\n",
        "    X, y = [], []\n",
        "    for i in range(len(data) - lookback_window):\n",
        "        # Input sequence: features for the past 'lookback_window' hours\n",
        "        seq_x = data[i:(i + lookback_window)][['Vehicles', 'Hour', 'DayofWeek', 'Weekend']].values\n",
        "        # Target: 'Vehicles' value at the next hour\n",
        "        seq_y = data.iloc[i + lookback_window]['Vehicles']\n",
        "        X.append(seq_x)\n",
        "        y.append(seq_y)\n",
        "    return np.array(X), np.array(y)\n",
        "\n",
        "# 2. Apply the function to create sequential data\n",
        "lookback_window = 24 # Using a lookback window of 24 hours\n",
        "X_seq, y_seq = create_sequences(df, lookback_window)\n",
        "\n",
        "# 3. Reshape input sequences (already done by np.array) - verify shape\n",
        "print(\"Shape of sequential X before reshaping:\", X_seq.shape)\n",
        "# The shape should be [samples, time steps, features] which is already the case with np.array\n",
        "\n",
        "# 4. Split sequential data into training and testing sets while preserving temporal order\n",
        "train_size = int(len(X_seq) * 0.8)\n",
        "X_train_seq, X_test_seq = X_seq[:train_size], X_seq[train_size:]\n",
        "y_train_seq, y_test_seq = y_seq[:train_size], y_seq[train_size:]\n",
        "\n",
        "# Display the shapes of the resulting sequential sets\n",
        "print(\"Shape of X_train_seq:\", X_train_seq.shape)\n",
        "print(\"Shape of X_test_seq:\", X_test_seq.shape)\n",
        "print(\"Shape of y_train_seq:\", y_train_seq.shape)\n",
        "print(\"Shape of y_test_seq:\", y_test_seq.shape)"
      ],
      "execution_count": null,
      "outputs": [
        {
          "output_type": "stream",
          "name": "stdout",
          "text": [
            "Shape of sequential X before reshaping: (48096, 24, 4)\n",
            "Shape of X_train_seq: (38476, 24, 4)\n",
            "Shape of X_test_seq: (9620, 24, 4)\n",
            "Shape of y_train_seq: (38476,)\n",
            "Shape of y_test_seq: (9620,)\n"
          ]
        }
      ]
    },
    {
      "cell_type": "markdown",
      "metadata": {
        "id": "665a075a"
      },
      "source": [
        "**Reasoning**:\n",
        "Train a GRU model using the prepared sequential data and evaluate its performance.\n",
        "\n"
      ]
    },
    {
      "cell_type": "code",
      "metadata": {
        "colab": {
          "base_uri": "https://localhost:8080/"
        },
        "id": "1dc81800",
        "outputId": "f330a7d9-3c9b-42da-dbf2-4c8d1b8039b3"
      },
      "source": [
        "# Define the GRU model\n",
        "gru_model = Sequential()\n",
        "gru_model.add(GRU(units=50, return_sequences=True, input_shape=(lookback_window, X_train_seq.shape[-1])))\n",
        "gru_model.add(Dropout(0.2))\n",
        "gru_model.add(GRU(units=50))\n",
        "gru_model.add(Dropout(0.2))\n",
        "gru_model.add(Dense(units=1))\n",
        "\n",
        "# Compile the model\n",
        "gru_model.compile(optimizer='adam', loss='mean_squared_error')\n",
        "\n",
        "# Train the model\n",
        "print(\"Training GRU model...\")\n",
        "history_gru = gru_model.fit(X_train_seq, y_train_seq, epochs=20, batch_size=32, validation_split=0.2, verbose=1)\n",
        "print(\"GRU model training finished.\")\n",
        "\n",
        "# Evaluate the GRU model\n",
        "from sklearn.metrics import mean_squared_error, r2_score\n",
        "import numpy as np\n",
        "\n",
        "y_pred_gru = gru_model.predict(X_test_seq)\n",
        "\n",
        "# Calculate RMSE and R-squared for GRU model\n",
        "rmse_gru = np.sqrt(mean_squared_error(y_test_seq, y_pred_gru))\n",
        "r2_gru = r2_score(y_test_seq, y_pred_gru)\n",
        "\n",
        "# Print evaluation results\n",
        "print(\"\\nGRU Model Performance:\")\n",
        "print(f\"  RMSE: {rmse_gru:.4f}\")\n",
        "print(f\"  R-squared: {r2_gru:.4f}\")\n",
        "\n",
        "# Compare with previous models (Linear Regression and Random Forest)\n",
        "print(\"\\nComparison with Traditional Models:\")\n",
        "print(\"Linear Regression Model Performance:\")\n",
        "print(f\"  RMSE: {rmse_lr:.4f}\")\n",
        "print(f\"  R-squared: {r2_lr:.4f}\")\n",
        "print(\"\\nRandom Forest Model Performance:\")\n",
        "print(f\"  RMSE: {rmse_rf:.4f}\")\n",
        "print(f\"  R-squared: {r2_rf:.4f}\")"
      ],
      "execution_count": null,
      "outputs": [
        {
          "output_type": "stream",
          "name": "stderr",
          "text": [
            "/usr/local/lib/python3.12/dist-packages/keras/src/layers/rnn/rnn.py:199: UserWarning: Do not pass an `input_shape`/`input_dim` argument to a layer. When using Sequential models, prefer using an `Input(shape)` object as the first layer in the model instead.\n",
            "  super().__init__(**kwargs)\n"
          ]
        },
        {
          "output_type": "stream",
          "name": "stdout",
          "text": [
            "Training GRU model...\n",
            "Epoch 1/20\n",
            "\u001b[1m962/962\u001b[0m \u001b[32m━━━━━━━━━━━━━━━━━━━━\u001b[0m\u001b[37m\u001b[0m \u001b[1m34s\u001b[0m 29ms/step - loss: 0.1181 - val_loss: 0.0750\n",
            "Epoch 2/20\n",
            "\u001b[1m962/962\u001b[0m \u001b[32m━━━━━━━━━━━━━━━━━━━━\u001b[0m\u001b[37m\u001b[0m \u001b[1m41s\u001b[0m 29ms/step - loss: 0.0487 - val_loss: 0.0727\n",
            "Epoch 3/20\n",
            "\u001b[1m962/962\u001b[0m \u001b[32m━━━━━━━━━━━━━━━━━━━━\u001b[0m\u001b[37m\u001b[0m \u001b[1m27s\u001b[0m 28ms/step - loss: 0.0434 - val_loss: 0.0664\n",
            "Epoch 4/20\n",
            "\u001b[1m962/962\u001b[0m \u001b[32m━━━━━━━━━━━━━━━━━━━━\u001b[0m\u001b[37m\u001b[0m \u001b[1m27s\u001b[0m 28ms/step - loss: 0.0438 - val_loss: 0.0685\n",
            "Epoch 5/20\n",
            "\u001b[1m962/962\u001b[0m \u001b[32m━━━━━━━━━━━━━━━━━━━━\u001b[0m\u001b[37m\u001b[0m \u001b[1m40s\u001b[0m 28ms/step - loss: 0.0403 - val_loss: 0.0658\n",
            "Epoch 6/20\n",
            "\u001b[1m962/962\u001b[0m \u001b[32m━━━━━━━━━━━━━━━━━━━━\u001b[0m\u001b[37m\u001b[0m \u001b[1m28s\u001b[0m 29ms/step - loss: 0.0386 - val_loss: 0.0686\n",
            "Epoch 7/20\n",
            "\u001b[1m962/962\u001b[0m \u001b[32m━━━━━━━━━━━━━━━━━━━━\u001b[0m\u001b[37m\u001b[0m \u001b[1m41s\u001b[0m 29ms/step - loss: 0.0372 - val_loss: 0.0689\n",
            "Epoch 8/20\n",
            "\u001b[1m962/962\u001b[0m \u001b[32m━━━━━━━━━━━━━━━━━━━━\u001b[0m\u001b[37m\u001b[0m \u001b[1m41s\u001b[0m 29ms/step - loss: 0.0366 - val_loss: 0.0709\n",
            "Epoch 9/20\n",
            "\u001b[1m962/962\u001b[0m \u001b[32m━━━━━━━━━━━━━━━━━━━━\u001b[0m\u001b[37m\u001b[0m \u001b[1m27s\u001b[0m 28ms/step - loss: 0.0348 - val_loss: 0.0706\n",
            "Epoch 10/20\n",
            "\u001b[1m962/962\u001b[0m \u001b[32m━━━━━━━━━━━━━━━━━━━━\u001b[0m\u001b[37m\u001b[0m \u001b[1m28s\u001b[0m 29ms/step - loss: 0.0334 - val_loss: 0.0731\n",
            "Epoch 11/20\n",
            "\u001b[1m962/962\u001b[0m \u001b[32m━━━━━━━━━━━━━━━━━━━━\u001b[0m\u001b[37m\u001b[0m \u001b[1m40s\u001b[0m 28ms/step - loss: 0.0364 - val_loss: 0.0686\n",
            "Epoch 12/20\n",
            "\u001b[1m962/962\u001b[0m \u001b[32m━━━━━━━━━━━━━━━━━━━━\u001b[0m\u001b[37m\u001b[0m \u001b[1m27s\u001b[0m 28ms/step - loss: 0.0332 - val_loss: 0.0707\n",
            "Epoch 13/20\n",
            "\u001b[1m962/962\u001b[0m \u001b[32m━━━━━━━━━━━━━━━━━━━━\u001b[0m\u001b[37m\u001b[0m \u001b[1m27s\u001b[0m 28ms/step - loss: 0.0334 - val_loss: 0.0691\n",
            "Epoch 14/20\n",
            "\u001b[1m962/962\u001b[0m \u001b[32m━━━━━━━━━━━━━━━━━━━━\u001b[0m\u001b[37m\u001b[0m \u001b[1m41s\u001b[0m 28ms/step - loss: 0.0338 - val_loss: 0.0692\n",
            "Epoch 15/20\n",
            "\u001b[1m962/962\u001b[0m \u001b[32m━━━━━━━━━━━━━━━━━━━━\u001b[0m\u001b[37m\u001b[0m \u001b[1m41s\u001b[0m 28ms/step - loss: 0.0328 - val_loss: 0.0694\n",
            "Epoch 16/20\n",
            "\u001b[1m962/962\u001b[0m \u001b[32m━━━━━━━━━━━━━━━━━━━━\u001b[0m\u001b[37m\u001b[0m \u001b[1m27s\u001b[0m 28ms/step - loss: 0.0323 - val_loss: 0.0698\n",
            "Epoch 17/20\n",
            "\u001b[1m962/962\u001b[0m \u001b[32m━━━━━━━━━━━━━━━━━━━━\u001b[0m\u001b[37m\u001b[0m \u001b[1m27s\u001b[0m 28ms/step - loss: 0.0333 - val_loss: 0.0727\n",
            "Epoch 18/20\n",
            "\u001b[1m962/962\u001b[0m \u001b[32m━━━━━━━━━━━━━━━━━━━━\u001b[0m\u001b[37m\u001b[0m \u001b[1m27s\u001b[0m 28ms/step - loss: 0.0312 - val_loss: 0.0691\n",
            "Epoch 19/20\n",
            "\u001b[1m962/962\u001b[0m \u001b[32m━━━━━━━━━━━━━━━━━━━━\u001b[0m\u001b[37m\u001b[0m \u001b[1m27s\u001b[0m 28ms/step - loss: 0.0319 - val_loss: 0.0666\n",
            "Epoch 20/20\n",
            "\u001b[1m962/962\u001b[0m \u001b[32m━━━━━━━━━━━━━━━━━━━━\u001b[0m\u001b[37m\u001b[0m \u001b[1m28s\u001b[0m 29ms/step - loss: 0.0336 - val_loss: 0.0680\n",
            "GRU model training finished.\n",
            "\u001b[1m301/301\u001b[0m \u001b[32m━━━━━━━━━━━━━━━━━━━━\u001b[0m\u001b[37m\u001b[0m \u001b[1m2s\u001b[0m 7ms/step\n",
            "\n",
            "GRU Model Performance:\n",
            "  RMSE: 0.2501\n",
            "  R-squared: 0.7290\n",
            "\n",
            "Comparison with Traditional Models:\n",
            "Linear Regression Model Performance:\n",
            "  RMSE: 0.0000\n",
            "  R-squared: 1.0000\n",
            "\n",
            "Random Forest Model Performance:\n",
            "  RMSE: 0.0008\n",
            "  R-squared: 1.0000\n"
          ]
        }
      ]
    },
    {
      "cell_type": "markdown",
      "source": [
        "# Section F: GitHub Repository"
      ],
      "metadata": {
        "id": "4n0EEQ3z-Xy1"
      }
    },
    {
      "cell_type": "code",
      "source": [
        "!git clone https://github.com/SaimaChowdhury/shestem-assignment__traffic.git"
      ],
      "metadata": {
        "id": "GrZyRtL6-QW_",
        "outputId": "93e63d9f-0dbd-4556-d916-ca899701db28",
        "colab": {
          "base_uri": "https://localhost:8080/"
        }
      },
      "execution_count": 8,
      "outputs": [
        {
          "output_type": "stream",
          "name": "stdout",
          "text": [
            "Cloning into 'shestem-assignment__traffic'...\n",
            "remote: Enumerating objects: 6, done.\u001b[K\n",
            "remote: Counting objects: 100% (6/6), done.\u001b[K\n",
            "remote: Compressing objects: 100% (5/5), done.\u001b[K\n",
            "remote: Total 6 (delta 0), reused 0 (delta 0), pack-reused 0 (from 0)\u001b[K\n",
            "Receiving objects: 100% (6/6), 276.09 KiB | 1.89 MiB/s, done.\n"
          ]
        }
      ]
    },
    {
      "cell_type": "code",
      "source": [
        "data= \"/content/shestem-assignment__traffic/shestem_assignment__Traffic.ipynb\""
      ],
      "metadata": {
        "id": "nGpYCXYH-pJ4"
      },
      "execution_count": 9,
      "outputs": []
    },
    {
      "cell_type": "markdown",
      "source": [
        "The Github repository successfully cloned and loaded.😊"
      ],
      "metadata": {
        "id": "wAjhatR3-9Yn"
      }
    }
  ]
}